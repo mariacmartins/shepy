{
  "nbformat": 4,
  "nbformat_minor": 0,
  "metadata": {
    "colab": {
      "name": "Aula 6- Análise de dados Eleições - shePY.ipynb",
      "provenance": [],
      "authorship_tag": "ABX9TyPuV2jJ2g6IZuUxEHmVEed1",
      "include_colab_link": true
    },
    "kernelspec": {
      "name": "python3",
      "display_name": "Python 3"
    },
    "language_info": {
      "name": "python"
    }
  },
  "cells": [
    {
      "cell_type": "markdown",
      "metadata": {
        "id": "view-in-github",
        "colab_type": "text"
      },
      "source": [
        "<a href=\"https://colab.research.google.com/github/mariacmartins/shepy/blob/main/Aula_6_An%C3%A1lise_de_dados_Elei%C3%A7%C3%B5es_shePY.ipynb\" target=\"_parent\"><img src=\"https://colab.research.google.com/assets/colab-badge.svg\" alt=\"Open In Colab\"/></a>"
      ]
    },
    {
      "cell_type": "markdown",
      "metadata": {
        "id": "qQaBxLX8Rold"
      },
      "source": [
        "# Análise e visualização de dados de eleições dos EUA\n",
        "\n",
        "Dados obtidos em: https://electionlab.mit.edu/data"
      ]
    },
    {
      "cell_type": "code",
      "metadata": {
        "id": "jbWWwsdQz3QJ"
      },
      "source": [
        "import pandas as pd\n",
        "import plotly.graph_objects as go"
      ],
      "execution_count": 1,
      "outputs": []
    },
    {
      "cell_type": "code",
      "metadata": {
        "id": "vLE2SOy10YW_"
      },
      "source": [
        "us_df = pd.read_csv(\"1976-2020-president.csv\")"
      ],
      "execution_count": 2,
      "outputs": []
    },
    {
      "cell_type": "code",
      "metadata": {
        "colab": {
          "base_uri": "https://localhost:8080/"
        },
        "id": "wg8eDZMEsDny",
        "outputId": "70a86e36-0a66-4b05-b459-1f4bae7aa48a"
      },
      "source": [
        "us_df.shape #observando linhas e colunas do df"
      ],
      "execution_count": 3,
      "outputs": [
        {
          "output_type": "execute_result",
          "data": {
            "text/plain": [
              "(4287, 15)"
            ]
          },
          "metadata": {
            "tags": []
          },
          "execution_count": 3
        }
      ]
    },
    {
      "cell_type": "code",
      "metadata": {
        "colab": {
          "base_uri": "https://localhost:8080/",
          "height": 339
        },
        "id": "htUpgXWy0mFQ",
        "outputId": "697855d9-de0c-40aa-e2bb-4246d80b7a97"
      },
      "source": [
        "us_df.head()"
      ],
      "execution_count": 4,
      "outputs": [
        {
          "output_type": "execute_result",
          "data": {
            "text/html": [
              "<div>\n",
              "<style scoped>\n",
              "    .dataframe tbody tr th:only-of-type {\n",
              "        vertical-align: middle;\n",
              "    }\n",
              "\n",
              "    .dataframe tbody tr th {\n",
              "        vertical-align: top;\n",
              "    }\n",
              "\n",
              "    .dataframe thead th {\n",
              "        text-align: right;\n",
              "    }\n",
              "</style>\n",
              "<table border=\"1\" class=\"dataframe\">\n",
              "  <thead>\n",
              "    <tr style=\"text-align: right;\">\n",
              "      <th></th>\n",
              "      <th>year</th>\n",
              "      <th>state</th>\n",
              "      <th>state_po</th>\n",
              "      <th>state_fips</th>\n",
              "      <th>state_cen</th>\n",
              "      <th>state_ic</th>\n",
              "      <th>office</th>\n",
              "      <th>candidate</th>\n",
              "      <th>party_detailed</th>\n",
              "      <th>writein</th>\n",
              "      <th>candidatevotes</th>\n",
              "      <th>totalvotes</th>\n",
              "      <th>version</th>\n",
              "      <th>notes</th>\n",
              "      <th>party_simplified</th>\n",
              "    </tr>\n",
              "  </thead>\n",
              "  <tbody>\n",
              "    <tr>\n",
              "      <th>0</th>\n",
              "      <td>1976</td>\n",
              "      <td>ALABAMA</td>\n",
              "      <td>AL</td>\n",
              "      <td>1</td>\n",
              "      <td>63</td>\n",
              "      <td>41</td>\n",
              "      <td>US PRESIDENT</td>\n",
              "      <td>CARTER, JIMMY</td>\n",
              "      <td>DEMOCRAT</td>\n",
              "      <td>False</td>\n",
              "      <td>659170</td>\n",
              "      <td>1182850</td>\n",
              "      <td>20210113</td>\n",
              "      <td>NaN</td>\n",
              "      <td>DEMOCRAT</td>\n",
              "    </tr>\n",
              "    <tr>\n",
              "      <th>1</th>\n",
              "      <td>1976</td>\n",
              "      <td>ALABAMA</td>\n",
              "      <td>AL</td>\n",
              "      <td>1</td>\n",
              "      <td>63</td>\n",
              "      <td>41</td>\n",
              "      <td>US PRESIDENT</td>\n",
              "      <td>FORD, GERALD</td>\n",
              "      <td>REPUBLICAN</td>\n",
              "      <td>False</td>\n",
              "      <td>504070</td>\n",
              "      <td>1182850</td>\n",
              "      <td>20210113</td>\n",
              "      <td>NaN</td>\n",
              "      <td>REPUBLICAN</td>\n",
              "    </tr>\n",
              "    <tr>\n",
              "      <th>2</th>\n",
              "      <td>1976</td>\n",
              "      <td>ALABAMA</td>\n",
              "      <td>AL</td>\n",
              "      <td>1</td>\n",
              "      <td>63</td>\n",
              "      <td>41</td>\n",
              "      <td>US PRESIDENT</td>\n",
              "      <td>MADDOX, LESTER</td>\n",
              "      <td>AMERICAN INDEPENDENT PARTY</td>\n",
              "      <td>False</td>\n",
              "      <td>9198</td>\n",
              "      <td>1182850</td>\n",
              "      <td>20210113</td>\n",
              "      <td>NaN</td>\n",
              "      <td>OTHER</td>\n",
              "    </tr>\n",
              "    <tr>\n",
              "      <th>3</th>\n",
              "      <td>1976</td>\n",
              "      <td>ALABAMA</td>\n",
              "      <td>AL</td>\n",
              "      <td>1</td>\n",
              "      <td>63</td>\n",
              "      <td>41</td>\n",
              "      <td>US PRESIDENT</td>\n",
              "      <td>BUBAR, BENJAMIN \"\"BEN\"\"</td>\n",
              "      <td>PROHIBITION</td>\n",
              "      <td>False</td>\n",
              "      <td>6669</td>\n",
              "      <td>1182850</td>\n",
              "      <td>20210113</td>\n",
              "      <td>NaN</td>\n",
              "      <td>OTHER</td>\n",
              "    </tr>\n",
              "    <tr>\n",
              "      <th>4</th>\n",
              "      <td>1976</td>\n",
              "      <td>ALABAMA</td>\n",
              "      <td>AL</td>\n",
              "      <td>1</td>\n",
              "      <td>63</td>\n",
              "      <td>41</td>\n",
              "      <td>US PRESIDENT</td>\n",
              "      <td>HALL, GUS</td>\n",
              "      <td>COMMUNIST PARTY USE</td>\n",
              "      <td>False</td>\n",
              "      <td>1954</td>\n",
              "      <td>1182850</td>\n",
              "      <td>20210113</td>\n",
              "      <td>NaN</td>\n",
              "      <td>OTHER</td>\n",
              "    </tr>\n",
              "  </tbody>\n",
              "</table>\n",
              "</div>"
            ],
            "text/plain": [
              "   year    state state_po  ...   version  notes  party_simplified\n",
              "0  1976  ALABAMA       AL  ...  20210113    NaN          DEMOCRAT\n",
              "1  1976  ALABAMA       AL  ...  20210113    NaN        REPUBLICAN\n",
              "2  1976  ALABAMA       AL  ...  20210113    NaN             OTHER\n",
              "3  1976  ALABAMA       AL  ...  20210113    NaN             OTHER\n",
              "4  1976  ALABAMA       AL  ...  20210113    NaN             OTHER\n",
              "\n",
              "[5 rows x 15 columns]"
            ]
          },
          "metadata": {
            "tags": []
          },
          "execution_count": 4
        }
      ]
    },
    {
      "cell_type": "markdown",
      "metadata": {
        "id": "1rvhq32XuC0R"
      },
      "source": [
        "E se quisermos analisar só uma coluna?"
      ]
    },
    {
      "cell_type": "code",
      "metadata": {
        "colab": {
          "base_uri": "https://localhost:8080/"
        },
        "id": "LdgC3cKwsdqf",
        "outputId": "2b9e73de-16d5-4af8-84da-2666a213c84f"
      },
      "source": [
        "us_df['year']"
      ],
      "execution_count": 5,
      "outputs": [
        {
          "output_type": "execute_result",
          "data": {
            "text/plain": [
              "0       1976\n",
              "1       1976\n",
              "2       1976\n",
              "3       1976\n",
              "4       1976\n",
              "        ... \n",
              "4282    2020\n",
              "4283    2020\n",
              "4284    2020\n",
              "4285    2020\n",
              "4286    2020\n",
              "Name: year, Length: 4287, dtype: int64"
            ]
          },
          "metadata": {
            "tags": []
          },
          "execution_count": 5
        }
      ]
    },
    {
      "cell_type": "code",
      "metadata": {
        "id": "M835smoL0yB9"
      },
      "source": [
        "df_sel_year = us_df.query('year == 2008')"
      ],
      "execution_count": 6,
      "outputs": []
    },
    {
      "cell_type": "code",
      "metadata": {
        "colab": {
          "base_uri": "https://localhost:8080/",
          "height": 322
        },
        "id": "rR08TkfM00u7",
        "outputId": "130cc902-5cc3-4a29-b1bd-00bc82dca37d"
      },
      "source": [
        "df_sel_year.head()"
      ],
      "execution_count": 7,
      "outputs": [
        {
          "output_type": "execute_result",
          "data": {
            "text/html": [
              "<div>\n",
              "<style scoped>\n",
              "    .dataframe tbody tr th:only-of-type {\n",
              "        vertical-align: middle;\n",
              "    }\n",
              "\n",
              "    .dataframe tbody tr th {\n",
              "        vertical-align: top;\n",
              "    }\n",
              "\n",
              "    .dataframe thead th {\n",
              "        text-align: right;\n",
              "    }\n",
              "</style>\n",
              "<table border=\"1\" class=\"dataframe\">\n",
              "  <thead>\n",
              "    <tr style=\"text-align: right;\">\n",
              "      <th></th>\n",
              "      <th>year</th>\n",
              "      <th>state</th>\n",
              "      <th>state_po</th>\n",
              "      <th>state_fips</th>\n",
              "      <th>state_cen</th>\n",
              "      <th>state_ic</th>\n",
              "      <th>office</th>\n",
              "      <th>candidate</th>\n",
              "      <th>party_detailed</th>\n",
              "      <th>writein</th>\n",
              "      <th>candidatevotes</th>\n",
              "      <th>totalvotes</th>\n",
              "      <th>version</th>\n",
              "      <th>notes</th>\n",
              "      <th>party_simplified</th>\n",
              "    </tr>\n",
              "  </thead>\n",
              "  <tbody>\n",
              "    <tr>\n",
              "      <th>2728</th>\n",
              "      <td>2008</td>\n",
              "      <td>ALABAMA</td>\n",
              "      <td>AL</td>\n",
              "      <td>1</td>\n",
              "      <td>63</td>\n",
              "      <td>41</td>\n",
              "      <td>US PRESIDENT</td>\n",
              "      <td>MCCAIN, JOHN</td>\n",
              "      <td>REPUBLICAN</td>\n",
              "      <td>False</td>\n",
              "      <td>1266546</td>\n",
              "      <td>2099819</td>\n",
              "      <td>20210113</td>\n",
              "      <td>NaN</td>\n",
              "      <td>REPUBLICAN</td>\n",
              "    </tr>\n",
              "    <tr>\n",
              "      <th>2729</th>\n",
              "      <td>2008</td>\n",
              "      <td>ALABAMA</td>\n",
              "      <td>AL</td>\n",
              "      <td>1</td>\n",
              "      <td>63</td>\n",
              "      <td>41</td>\n",
              "      <td>US PRESIDENT</td>\n",
              "      <td>OBAMA, BARACK H.</td>\n",
              "      <td>DEMOCRAT</td>\n",
              "      <td>False</td>\n",
              "      <td>813479</td>\n",
              "      <td>2099819</td>\n",
              "      <td>20210113</td>\n",
              "      <td>NaN</td>\n",
              "      <td>DEMOCRAT</td>\n",
              "    </tr>\n",
              "    <tr>\n",
              "      <th>2730</th>\n",
              "      <td>2008</td>\n",
              "      <td>ALABAMA</td>\n",
              "      <td>AL</td>\n",
              "      <td>1</td>\n",
              "      <td>63</td>\n",
              "      <td>41</td>\n",
              "      <td>US PRESIDENT</td>\n",
              "      <td>NaN</td>\n",
              "      <td>INDEPENDENT</td>\n",
              "      <td>False</td>\n",
              "      <td>16089</td>\n",
              "      <td>2099819</td>\n",
              "      <td>20210113</td>\n",
              "      <td>NaN</td>\n",
              "      <td>OTHER</td>\n",
              "    </tr>\n",
              "    <tr>\n",
              "      <th>2731</th>\n",
              "      <td>2008</td>\n",
              "      <td>ALABAMA</td>\n",
              "      <td>AL</td>\n",
              "      <td>1</td>\n",
              "      <td>63</td>\n",
              "      <td>41</td>\n",
              "      <td>US PRESIDENT</td>\n",
              "      <td>NaN</td>\n",
              "      <td>NaN</td>\n",
              "      <td>True</td>\n",
              "      <td>3705</td>\n",
              "      <td>2099819</td>\n",
              "      <td>20210113</td>\n",
              "      <td>NaN</td>\n",
              "      <td>OTHER</td>\n",
              "    </tr>\n",
              "    <tr>\n",
              "      <th>2732</th>\n",
              "      <td>2008</td>\n",
              "      <td>ALASKA</td>\n",
              "      <td>AK</td>\n",
              "      <td>2</td>\n",
              "      <td>94</td>\n",
              "      <td>81</td>\n",
              "      <td>US PRESIDENT</td>\n",
              "      <td>MCCAIN, JOHN</td>\n",
              "      <td>REPUBLICAN</td>\n",
              "      <td>False</td>\n",
              "      <td>193841</td>\n",
              "      <td>326197</td>\n",
              "      <td>20210113</td>\n",
              "      <td>NaN</td>\n",
              "      <td>REPUBLICAN</td>\n",
              "    </tr>\n",
              "  </tbody>\n",
              "</table>\n",
              "</div>"
            ],
            "text/plain": [
              "      year    state state_po  ...   version  notes  party_simplified\n",
              "2728  2008  ALABAMA       AL  ...  20210113    NaN        REPUBLICAN\n",
              "2729  2008  ALABAMA       AL  ...  20210113    NaN          DEMOCRAT\n",
              "2730  2008  ALABAMA       AL  ...  20210113    NaN             OTHER\n",
              "2731  2008  ALABAMA       AL  ...  20210113    NaN             OTHER\n",
              "2732  2008   ALASKA       AK  ...  20210113    NaN        REPUBLICAN\n",
              "\n",
              "[5 rows x 15 columns]"
            ]
          },
          "metadata": {
            "tags": []
          },
          "execution_count": 7
        }
      ]
    },
    {
      "cell_type": "code",
      "metadata": {
        "id": "Q9a5Q7xs1brh"
      },
      "source": [
        "df = df_sel_year.sort_values(by=['state','candidatevotes']).drop_duplicates(subset=['state'], keep='last')"
      ],
      "execution_count": 8,
      "outputs": []
    },
    {
      "cell_type": "code",
      "metadata": {
        "id": "YoXDDT2x1iJQ"
      },
      "source": [
        "df['party_detailed'] = df['party_detailed'].astype('category')"
      ],
      "execution_count": 9,
      "outputs": []
    },
    {
      "cell_type": "code",
      "metadata": {
        "colab": {
          "base_uri": "https://localhost:8080/"
        },
        "id": "fkQ2avulqx_o",
        "outputId": "c346d267-6733-4f2a-811b-542ab226cc6a"
      },
      "source": [
        "df.info()"
      ],
      "execution_count": 10,
      "outputs": [
        {
          "output_type": "stream",
          "text": [
            "<class 'pandas.core.frame.DataFrame'>\n",
            "Int64Index: 51 entries, 2728 to 3073\n",
            "Data columns (total 15 columns):\n",
            " #   Column            Non-Null Count  Dtype   \n",
            "---  ------            --------------  -----   \n",
            " 0   year              51 non-null     int64   \n",
            " 1   state             51 non-null     object  \n",
            " 2   state_po          51 non-null     object  \n",
            " 3   state_fips        51 non-null     int64   \n",
            " 4   state_cen         51 non-null     int64   \n",
            " 5   state_ic          51 non-null     int64   \n",
            " 6   office            51 non-null     object  \n",
            " 7   candidate         51 non-null     object  \n",
            " 8   party_detailed    51 non-null     category\n",
            " 9   writein           51 non-null     object  \n",
            " 10  candidatevotes    51 non-null     int64   \n",
            " 11  totalvotes        51 non-null     int64   \n",
            " 12  version           51 non-null     int64   \n",
            " 13  notes             0 non-null      float64 \n",
            " 14  party_simplified  51 non-null     object  \n",
            "dtypes: category(1), float64(1), int64(7), object(6)\n",
            "memory usage: 6.1+ KB\n"
          ],
          "name": "stdout"
        }
      ]
    },
    {
      "cell_type": "code",
      "metadata": {
        "colab": {
          "base_uri": "https://localhost:8080/",
          "height": 542
        },
        "id": "oeSflt0X16av",
        "outputId": "2a1a0a89-8069-4760-920f-f9409874a796"
      },
      "source": [
        "fig = go.Figure(data=go.Choropleth(\n",
        "    locations=df['state_po'], # Spatial coordinates\n",
        "    z = df['party_detailed'].cat.codes, # Data to be color-coded\n",
        "    locationmode = 'USA-states', # set of locations match entries in `locations`\n",
        "    colorscale = [[0.0, \"rgb(0,0,200)\"],[1.0, \"rgb(200,0,0)\"]],\n",
        "    colorbar_title = \"Candidato vencedor\",\n",
        "    text = df['candidate']\n",
        "))\n",
        "\n",
        "fig.update_layout(\n",
        "    title_text = 'Eleições para presidente dos EUA 2008 - Ganhador por Estado',\n",
        "    geo_scope='usa', # limite map scope to USA\n",
        ")\n",
        "\n",
        "fig.show()\n"
      ],
      "execution_count": 11,
      "outputs": [
        {
          "output_type": "display_data",
          "data": {
            "text/html": [
              "<html>\n",
              "<head><meta charset=\"utf-8\" /></head>\n",
              "<body>\n",
              "    <div>\n",
              "            <script src=\"https://cdnjs.cloudflare.com/ajax/libs/mathjax/2.7.5/MathJax.js?config=TeX-AMS-MML_SVG\"></script><script type=\"text/javascript\">if (window.MathJax) {MathJax.Hub.Config({SVG: {font: \"STIX-Web\"}});}</script>\n",
              "                <script type=\"text/javascript\">window.PlotlyConfig = {MathJaxConfig: 'local'};</script>\n",
              "        <script src=\"https://cdn.plot.ly/plotly-latest.min.js\"></script>    \n",
              "            <div id=\"f9322985-b815-4853-9cdd-a329c110da48\" class=\"plotly-graph-div\" style=\"height:525px; width:100%;\"></div>\n",
              "            <script type=\"text/javascript\">\n",
              "                \n",
              "                    window.PLOTLYENV=window.PLOTLYENV || {};\n",
              "                    \n",
              "                if (document.getElementById(\"f9322985-b815-4853-9cdd-a329c110da48\")) {\n",
              "                    Plotly.newPlot(\n",
              "                        'f9322985-b815-4853-9cdd-a329c110da48',\n",
              "                        [{\"colorbar\": {\"title\": {\"text\": \"Candidato vencedor\"}}, \"colorscale\": [[0.0, \"rgb(0,0,200)\"], [1.0, \"rgb(200,0,0)\"]], \"locationmode\": \"USA-states\", \"locations\": [\"AL\", \"AK\", \"AZ\", \"AR\", \"CA\", \"CO\", \"CT\", \"DE\", \"DC\", \"FL\", \"GA\", \"HI\", \"ID\", \"IL\", \"IN\", \"IA\", \"KS\", \"KY\", \"LA\", \"ME\", \"MD\", \"MA\", \"MI\", \"MN\", \"MS\", \"MO\", \"MT\", \"NE\", \"NV\", \"NH\", \"NJ\", \"NM\", \"NY\", \"NC\", \"ND\", \"OH\", \"OK\", \"OR\", \"PA\", \"RI\", \"SC\", \"SD\", \"TN\", \"TX\", \"UT\", \"VT\", \"VA\", \"WA\", \"WV\", \"WI\", \"WY\"], \"text\": [\"MCCAIN, JOHN\", \"MCCAIN, JOHN\", \"MCCAIN, JOHN\", \"MCCAIN, JOHN\", \"OBAMA, BARACK H.\", \"OBAMA, BARACK H.\", \"OBAMA, BARACK H.\", \"OBAMA, BARACK H.\", \"OBAMA, BARACK H.\", \"OBAMA, BARACK H.\", \"MCCAIN, JOHN\", \"OBAMA, BARACK H.\", \"MCCAIN, JOHN\", \"OBAMA, BARACK H.\", \"OBAMA, BARACK H.\", \"OBAMA, BARACK H.\", \"MCCAIN, JOHN\", \"MCCAIN, JOHN\", \"MCCAIN, JOHN\", \"OBAMA, BARACK H.\", \"OBAMA, BARACK H.\", \"OBAMA, BARACK H.\", \"OBAMA, BARACK H.\", \"OBAMA, BARACK H.\", \"MCCAIN, JOHN\", \"MCCAIN, JOHN\", \"MCCAIN, JOHN\", \"MCCAIN, JOHN\", \"OBAMA, BARACK H.\", \"OBAMA, BARACK H.\", \"OBAMA, BARACK H.\", \"OBAMA, BARACK H.\", \"OBAMA, BARACK H.\", \"OBAMA, BARACK H.\", \"MCCAIN, JOHN\", \"OBAMA, BARACK H.\", \"MCCAIN, JOHN\", \"OBAMA, BARACK H.\", \"OBAMA, BARACK H.\", \"OBAMA, BARACK H.\", \"MCCAIN, JOHN\", \"MCCAIN, JOHN\", \"MCCAIN, JOHN\", \"MCCAIN, JOHN\", \"MCCAIN, JOHN\", \"OBAMA, BARACK H.\", \"OBAMA, BARACK H.\", \"OBAMA, BARACK H.\", \"MCCAIN, JOHN\", \"OBAMA, BARACK H.\", \"MCCAIN, JOHN\"], \"type\": \"choropleth\", \"z\": [1, 1, 1, 1, 0, 0, 0, 0, 0, 0, 1, 0, 1, 0, 0, 0, 1, 1, 1, 0, 0, 0, 0, 0, 1, 1, 1, 1, 0, 0, 0, 0, 0, 0, 1, 0, 1, 0, 0, 0, 1, 1, 1, 1, 1, 0, 0, 0, 1, 0, 1]}],\n",
              "                        {\"geo\": {\"scope\": \"usa\"}, \"template\": {\"data\": {\"bar\": [{\"error_x\": {\"color\": \"#2a3f5f\"}, \"error_y\": {\"color\": \"#2a3f5f\"}, \"marker\": {\"line\": {\"color\": \"#E5ECF6\", \"width\": 0.5}}, \"type\": \"bar\"}], \"barpolar\": [{\"marker\": {\"line\": {\"color\": \"#E5ECF6\", \"width\": 0.5}}, \"type\": \"barpolar\"}], \"carpet\": [{\"aaxis\": {\"endlinecolor\": \"#2a3f5f\", \"gridcolor\": \"white\", \"linecolor\": \"white\", \"minorgridcolor\": \"white\", \"startlinecolor\": \"#2a3f5f\"}, \"baxis\": {\"endlinecolor\": \"#2a3f5f\", \"gridcolor\": \"white\", \"linecolor\": \"white\", \"minorgridcolor\": \"white\", \"startlinecolor\": \"#2a3f5f\"}, \"type\": \"carpet\"}], \"choropleth\": [{\"colorbar\": {\"outlinewidth\": 0, \"ticks\": \"\"}, \"type\": \"choropleth\"}], \"contour\": [{\"colorbar\": {\"outlinewidth\": 0, \"ticks\": \"\"}, \"colorscale\": [[0.0, \"#0d0887\"], [0.1111111111111111, \"#46039f\"], [0.2222222222222222, \"#7201a8\"], [0.3333333333333333, \"#9c179e\"], [0.4444444444444444, \"#bd3786\"], [0.5555555555555556, \"#d8576b\"], [0.6666666666666666, \"#ed7953\"], [0.7777777777777778, \"#fb9f3a\"], [0.8888888888888888, \"#fdca26\"], [1.0, \"#f0f921\"]], \"type\": \"contour\"}], \"contourcarpet\": [{\"colorbar\": {\"outlinewidth\": 0, \"ticks\": \"\"}, \"type\": \"contourcarpet\"}], \"heatmap\": [{\"colorbar\": {\"outlinewidth\": 0, \"ticks\": \"\"}, \"colorscale\": [[0.0, \"#0d0887\"], [0.1111111111111111, \"#46039f\"], [0.2222222222222222, \"#7201a8\"], [0.3333333333333333, \"#9c179e\"], [0.4444444444444444, \"#bd3786\"], [0.5555555555555556, \"#d8576b\"], [0.6666666666666666, \"#ed7953\"], [0.7777777777777778, \"#fb9f3a\"], [0.8888888888888888, \"#fdca26\"], [1.0, \"#f0f921\"]], \"type\": \"heatmap\"}], \"heatmapgl\": [{\"colorbar\": {\"outlinewidth\": 0, \"ticks\": \"\"}, \"colorscale\": [[0.0, \"#0d0887\"], [0.1111111111111111, \"#46039f\"], [0.2222222222222222, \"#7201a8\"], [0.3333333333333333, \"#9c179e\"], [0.4444444444444444, \"#bd3786\"], [0.5555555555555556, \"#d8576b\"], [0.6666666666666666, \"#ed7953\"], [0.7777777777777778, \"#fb9f3a\"], [0.8888888888888888, \"#fdca26\"], [1.0, \"#f0f921\"]], \"type\": \"heatmapgl\"}], \"histogram\": [{\"marker\": {\"colorbar\": {\"outlinewidth\": 0, \"ticks\": \"\"}}, \"type\": \"histogram\"}], \"histogram2d\": [{\"colorbar\": {\"outlinewidth\": 0, \"ticks\": \"\"}, \"colorscale\": [[0.0, \"#0d0887\"], [0.1111111111111111, \"#46039f\"], [0.2222222222222222, \"#7201a8\"], [0.3333333333333333, \"#9c179e\"], [0.4444444444444444, \"#bd3786\"], [0.5555555555555556, \"#d8576b\"], [0.6666666666666666, \"#ed7953\"], [0.7777777777777778, \"#fb9f3a\"], [0.8888888888888888, \"#fdca26\"], [1.0, \"#f0f921\"]], \"type\": \"histogram2d\"}], \"histogram2dcontour\": [{\"colorbar\": {\"outlinewidth\": 0, \"ticks\": \"\"}, \"colorscale\": [[0.0, \"#0d0887\"], [0.1111111111111111, \"#46039f\"], [0.2222222222222222, \"#7201a8\"], [0.3333333333333333, \"#9c179e\"], [0.4444444444444444, \"#bd3786\"], [0.5555555555555556, \"#d8576b\"], [0.6666666666666666, \"#ed7953\"], [0.7777777777777778, \"#fb9f3a\"], [0.8888888888888888, \"#fdca26\"], [1.0, \"#f0f921\"]], \"type\": \"histogram2dcontour\"}], \"mesh3d\": [{\"colorbar\": {\"outlinewidth\": 0, \"ticks\": \"\"}, \"type\": \"mesh3d\"}], \"parcoords\": [{\"line\": {\"colorbar\": {\"outlinewidth\": 0, \"ticks\": \"\"}}, \"type\": \"parcoords\"}], \"pie\": [{\"automargin\": true, \"type\": \"pie\"}], \"scatter\": [{\"marker\": {\"colorbar\": {\"outlinewidth\": 0, \"ticks\": \"\"}}, \"type\": \"scatter\"}], \"scatter3d\": [{\"line\": {\"colorbar\": {\"outlinewidth\": 0, \"ticks\": \"\"}}, \"marker\": {\"colorbar\": {\"outlinewidth\": 0, \"ticks\": \"\"}}, \"type\": \"scatter3d\"}], \"scattercarpet\": [{\"marker\": {\"colorbar\": {\"outlinewidth\": 0, \"ticks\": \"\"}}, \"type\": \"scattercarpet\"}], \"scattergeo\": [{\"marker\": {\"colorbar\": {\"outlinewidth\": 0, \"ticks\": \"\"}}, \"type\": \"scattergeo\"}], \"scattergl\": [{\"marker\": {\"colorbar\": {\"outlinewidth\": 0, \"ticks\": \"\"}}, \"type\": \"scattergl\"}], \"scattermapbox\": [{\"marker\": {\"colorbar\": {\"outlinewidth\": 0, \"ticks\": \"\"}}, \"type\": \"scattermapbox\"}], \"scatterpolar\": [{\"marker\": {\"colorbar\": {\"outlinewidth\": 0, \"ticks\": \"\"}}, \"type\": \"scatterpolar\"}], \"scatterpolargl\": [{\"marker\": {\"colorbar\": {\"outlinewidth\": 0, \"ticks\": \"\"}}, \"type\": \"scatterpolargl\"}], \"scatterternary\": [{\"marker\": {\"colorbar\": {\"outlinewidth\": 0, \"ticks\": \"\"}}, \"type\": \"scatterternary\"}], \"surface\": [{\"colorbar\": {\"outlinewidth\": 0, \"ticks\": \"\"}, \"colorscale\": [[0.0, \"#0d0887\"], [0.1111111111111111, \"#46039f\"], [0.2222222222222222, \"#7201a8\"], [0.3333333333333333, \"#9c179e\"], [0.4444444444444444, \"#bd3786\"], [0.5555555555555556, \"#d8576b\"], [0.6666666666666666, \"#ed7953\"], [0.7777777777777778, \"#fb9f3a\"], [0.8888888888888888, \"#fdca26\"], [1.0, \"#f0f921\"]], \"type\": \"surface\"}], \"table\": [{\"cells\": {\"fill\": {\"color\": \"#EBF0F8\"}, \"line\": {\"color\": \"white\"}}, \"header\": {\"fill\": {\"color\": \"#C8D4E3\"}, \"line\": {\"color\": \"white\"}}, \"type\": \"table\"}]}, \"layout\": {\"annotationdefaults\": {\"arrowcolor\": \"#2a3f5f\", \"arrowhead\": 0, \"arrowwidth\": 1}, \"coloraxis\": {\"colorbar\": {\"outlinewidth\": 0, \"ticks\": \"\"}}, \"colorscale\": {\"diverging\": [[0, \"#8e0152\"], [0.1, \"#c51b7d\"], [0.2, \"#de77ae\"], [0.3, \"#f1b6da\"], [0.4, \"#fde0ef\"], [0.5, \"#f7f7f7\"], [0.6, \"#e6f5d0\"], [0.7, \"#b8e186\"], [0.8, \"#7fbc41\"], [0.9, \"#4d9221\"], [1, \"#276419\"]], \"sequential\": [[0.0, \"#0d0887\"], [0.1111111111111111, \"#46039f\"], [0.2222222222222222, \"#7201a8\"], [0.3333333333333333, \"#9c179e\"], [0.4444444444444444, \"#bd3786\"], [0.5555555555555556, \"#d8576b\"], [0.6666666666666666, \"#ed7953\"], [0.7777777777777778, \"#fb9f3a\"], [0.8888888888888888, \"#fdca26\"], [1.0, \"#f0f921\"]], \"sequentialminus\": [[0.0, \"#0d0887\"], [0.1111111111111111, \"#46039f\"], [0.2222222222222222, \"#7201a8\"], [0.3333333333333333, \"#9c179e\"], [0.4444444444444444, \"#bd3786\"], [0.5555555555555556, \"#d8576b\"], [0.6666666666666666, \"#ed7953\"], [0.7777777777777778, \"#fb9f3a\"], [0.8888888888888888, \"#fdca26\"], [1.0, \"#f0f921\"]]}, \"colorway\": [\"#636efa\", \"#EF553B\", \"#00cc96\", \"#ab63fa\", \"#FFA15A\", \"#19d3f3\", \"#FF6692\", \"#B6E880\", \"#FF97FF\", \"#FECB52\"], \"font\": {\"color\": \"#2a3f5f\"}, \"geo\": {\"bgcolor\": \"white\", \"lakecolor\": \"white\", \"landcolor\": \"#E5ECF6\", \"showlakes\": true, \"showland\": true, \"subunitcolor\": \"white\"}, \"hoverlabel\": {\"align\": \"left\"}, \"hovermode\": \"closest\", \"mapbox\": {\"style\": \"light\"}, \"paper_bgcolor\": \"white\", \"plot_bgcolor\": \"#E5ECF6\", \"polar\": {\"angularaxis\": {\"gridcolor\": \"white\", \"linecolor\": \"white\", \"ticks\": \"\"}, \"bgcolor\": \"#E5ECF6\", \"radialaxis\": {\"gridcolor\": \"white\", \"linecolor\": \"white\", \"ticks\": \"\"}}, \"scene\": {\"xaxis\": {\"backgroundcolor\": \"#E5ECF6\", \"gridcolor\": \"white\", \"gridwidth\": 2, \"linecolor\": \"white\", \"showbackground\": true, \"ticks\": \"\", \"zerolinecolor\": \"white\"}, \"yaxis\": {\"backgroundcolor\": \"#E5ECF6\", \"gridcolor\": \"white\", \"gridwidth\": 2, \"linecolor\": \"white\", \"showbackground\": true, \"ticks\": \"\", \"zerolinecolor\": \"white\"}, \"zaxis\": {\"backgroundcolor\": \"#E5ECF6\", \"gridcolor\": \"white\", \"gridwidth\": 2, \"linecolor\": \"white\", \"showbackground\": true, \"ticks\": \"\", \"zerolinecolor\": \"white\"}}, \"shapedefaults\": {\"line\": {\"color\": \"#2a3f5f\"}}, \"ternary\": {\"aaxis\": {\"gridcolor\": \"white\", \"linecolor\": \"white\", \"ticks\": \"\"}, \"baxis\": {\"gridcolor\": \"white\", \"linecolor\": \"white\", \"ticks\": \"\"}, \"bgcolor\": \"#E5ECF6\", \"caxis\": {\"gridcolor\": \"white\", \"linecolor\": \"white\", \"ticks\": \"\"}}, \"title\": {\"x\": 0.05}, \"xaxis\": {\"automargin\": true, \"gridcolor\": \"white\", \"linecolor\": \"white\", \"ticks\": \"\", \"title\": {\"standoff\": 15}, \"zerolinecolor\": \"white\", \"zerolinewidth\": 2}, \"yaxis\": {\"automargin\": true, \"gridcolor\": \"white\", \"linecolor\": \"white\", \"ticks\": \"\", \"title\": {\"standoff\": 15}, \"zerolinecolor\": \"white\", \"zerolinewidth\": 2}}}, \"title\": {\"text\": \"Elei\\u00e7\\u00f5es para presidente dos EUA 2008 - Ganhador por Estado\"}},\n",
              "                        {\"responsive\": true}\n",
              "                    ).then(function(){\n",
              "                            \n",
              "var gd = document.getElementById('f9322985-b815-4853-9cdd-a329c110da48');\n",
              "var x = new MutationObserver(function (mutations, observer) {{\n",
              "        var display = window.getComputedStyle(gd).display;\n",
              "        if (!display || display === 'none') {{\n",
              "            console.log([gd, 'removed!']);\n",
              "            Plotly.purge(gd);\n",
              "            observer.disconnect();\n",
              "        }}\n",
              "}});\n",
              "\n",
              "// Listen for the removal of the full notebook cells\n",
              "var notebookContainer = gd.closest('#notebook-container');\n",
              "if (notebookContainer) {{\n",
              "    x.observe(notebookContainer, {childList: true});\n",
              "}}\n",
              "\n",
              "// Listen for the clearing of the current output cell\n",
              "var outputEl = gd.closest('.output');\n",
              "if (outputEl) {{\n",
              "    x.observe(outputEl, {childList: true});\n",
              "}}\n",
              "\n",
              "                        })\n",
              "                };\n",
              "                \n",
              "            </script>\n",
              "        </div>\n",
              "</body>\n",
              "</html>"
            ]
          },
          "metadata": {
            "tags": []
          }
        }
      ]
    },
    {
      "cell_type": "markdown",
      "metadata": {
        "id": "CKRd5dWmwuve"
      },
      "source": [
        "Para saber mais sobre mapas: https://plotly.com/python/choropleth-maps/"
      ]
    }
  ]
}