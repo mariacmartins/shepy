{
  "nbformat": 4,
  "nbformat_minor": 0,
  "metadata": {
    "colab": {
      "name": "Aula 1 - Iniciando na programação com Python - ShePY.ipynb",
      "provenance": [],
      "authorship_tag": "ABX9TyPAMSkNOzKLnb4bHh3U93El",
      "include_colab_link": true
    },
    "kernelspec": {
      "name": "python3",
      "display_name": "Python 3"
    },
    "language_info": {
      "name": "python"
    }
  },
  "cells": [
    {
      "cell_type": "markdown",
      "metadata": {
        "id": "view-in-github",
        "colab_type": "text"
      },
      "source": [
        "<a href=\"https://colab.research.google.com/github/mariacmartins/shepy/blob/main/Aula_1_Iniciando_na_programa%C3%A7%C3%A3o_com_Python_ShePY.ipynb\" target=\"_parent\"><img src=\"https://colab.research.google.com/assets/colab-badge.svg\" alt=\"Open In Colab\"/></a>"
      ]
    },
    {
      "cell_type": "markdown",
      "metadata": {
        "id": "XbSfbYyK2VMV"
      },
      "source": [
        "# Iniciando na programação com Python e Google Colab\n",
        "\n",
        "## Por que aprender a programar?\n",
        "*Tudo o que fazemos responde a um algoritmo. É hora de que todos entendam como e por quê.*\n",
        "\n",
        "- Desenvolve a habilidade de resolver problemas\n",
        "- Trabalha a criatividade, persistência e a capacidade de superação\n",
        "- Ganho autonomia e agilidade no trabalho\n",
        "\n",
        "## Por que Python?\n",
        "- Simples e fácil de aprender\n",
        "- Grande comunidade\n",
        "- Versatilidade e diversas aplicações: Desenvolvimento web, Ciência de Dados, Inteligência Artificial, desenvolvimento de jogos, etc.\n",
        "- Bem aceita no mercado de trabalho\n",
        "\n",
        "## Por que iremos utilizar o Google Colab?\n",
        "O Google Colab é um ambiente de armazenamento em nuvem de notebooks, executado diretamente no navegador, sem a necessidade de nenhum tipo de instalação de software em máquina. Os notebooks permitem combinar códigos executáveis (por exemplo, códigos em Python) com textos e imagens utilizando Markdown.\n",
        "\n"
      ]
    },
    {
      "cell_type": "markdown",
      "metadata": {
        "id": "qABaoHWY60db"
      },
      "source": [
        "## Tipos de dados\n",
        "\n",
        "### Numéricos:\n",
        "- Inteiros **(int)** -> números sem casa decimal: 9, 7, -4\n",
        "- Reais **(float)** -> números com casa decimal: 3.14, 600.4, 0.0\n",
        "\n",
        "### Não numéricos:\n",
        "- Texto/String **(str)**: \"Python\", \"Maria Clara\", \"96785-202\"\n",
        "- Lógicos **(bool)**: True ou False"
      ]
    },
    {
      "cell_type": "markdown",
      "metadata": {
        "id": "C10pt2UY8hLh"
      },
      "source": [
        "## Variáveis e identificadores\n",
        "\n",
        "Variáveis são locais onde armazenamos valores na memória. De modo geral, as **variáveis são elementos básicos na programação que armazenam os dados que precisamos no nosso algoritmo.**\n",
        "\n",
        "Toda variável será caracterizada por um nome (que a identifica em um\n",
        "programa) e por um tipo.\n",
        "\n",
        "**Identificador** é um nome dado para variáveis, constantes e funções.\n",
        "\n",
        "Em Python, um identificador pode conter apenas:\n",
        "- Letras de A a Z (maiúsculas e minúsculas)\n",
        "- Os dígitos de 0 a 9\n",
        "- O símbolo underscore _\n",
        "\n",
        "Regras para identificadores em Python:\n",
        "- O identificador deve começar obrigatoriamente com uma letra ou underscore.\n",
        "- Não deve conter espaços, caracteres especiais ou letras acentuadas.\n",
        "- Python faz diferenciação entre maiúsculas e minúsculas.\n",
        "\n",
        "\n"
      ]
    },
    {
      "cell_type": "code",
      "metadata": {
        "colab": {
          "base_uri": "https://localhost:8080/"
        },
        "id": "QbdrNiSm-woh",
        "outputId": "abf570e5-de21-46b2-e225-fa1530ffcc69"
      },
      "source": [
        "print('Hello, world!')"
      ],
      "execution_count": 1,
      "outputs": [
        {
          "output_type": "stream",
          "text": [
            "Hello, world!\n"
          ],
          "name": "stdout"
        }
      ]
    },
    {
      "cell_type": "code",
      "metadata": {
        "colab": {
          "base_uri": "https://localhost:8080/"
        },
        "id": "IRRLBnoDBm4z",
        "outputId": "46c21d26-a5cf-4cb0-f7d5-3fb18cc92e39"
      },
      "source": [
        "mensagem = 'Hello, world!'\n",
        "print(mensagem)"
      ],
      "execution_count": 2,
      "outputs": [
        {
          "output_type": "stream",
          "text": [
            "Hello, world!\n"
          ],
          "name": "stdout"
        }
      ]
    },
    {
      "cell_type": "code",
      "metadata": {
        "colab": {
          "base_uri": "https://localhost:8080/"
        },
        "id": "qLccWpL1IU_h",
        "outputId": "85c3f2ae-9c41-4354-cf26-9ed399e93976"
      },
      "source": [
        "mensagem = 'Hello, world!'\n",
        "print('mensagem')"
      ],
      "execution_count": 3,
      "outputs": [
        {
          "output_type": "stream",
          "text": [
            "mensagem\n"
          ],
          "name": "stdout"
        }
      ]
    },
    {
      "cell_type": "code",
      "metadata": {
        "colab": {
          "base_uri": "https://localhost:8080/"
        },
        "id": "30JgUZgIBydT",
        "outputId": "7e0420d1-f0c6-4c7d-b1d5-44bef68202ab"
      },
      "source": [
        "type(mensagem)"
      ],
      "execution_count": 4,
      "outputs": [
        {
          "output_type": "execute_result",
          "data": {
            "text/plain": [
              "str"
            ]
          },
          "metadata": {
            "tags": []
          },
          "execution_count": 4
        }
      ]
    },
    {
      "cell_type": "code",
      "metadata": {
        "colab": {
          "base_uri": "https://localhost:8080/"
        },
        "id": "2AVCSfFlDskN",
        "outputId": "41b730e1-5244-42c8-9d08-4323abb92818"
      },
      "source": [
        "print(mensagem, 'Estou aprendendo a programar.')"
      ],
      "execution_count": 5,
      "outputs": [
        {
          "output_type": "stream",
          "text": [
            "Hello, world! Estou aprendendo a programar.\n"
          ],
          "name": "stdout"
        }
      ]
    },
    {
      "cell_type": "code",
      "metadata": {
        "colab": {
          "base_uri": "https://localhost:8080/"
        },
        "id": "U9Jz6t_l_RZV",
        "outputId": "61e50353-e023-4e8b-e143-4d5e37fe895c"
      },
      "source": [
        "nome = 'Maria'\n",
        "print(nome)"
      ],
      "execution_count": 6,
      "outputs": [
        {
          "output_type": "stream",
          "text": [
            "Maria\n"
          ],
          "name": "stdout"
        }
      ]
    },
    {
      "cell_type": "code",
      "metadata": {
        "colab": {
          "base_uri": "https://localhost:8080/",
          "height": 128
        },
        "id": "2X7eDsmv_oVI",
        "outputId": "3ba8ff6e-fafc-4ce1-ed98-7c09830555a6"
      },
      "source": [
        "meu nome = 'Maria'\n",
        "print(meu nome)"
      ],
      "execution_count": 7,
      "outputs": [
        {
          "output_type": "error",
          "ename": "SyntaxError",
          "evalue": "ignored",
          "traceback": [
            "\u001b[0;36m  File \u001b[0;32m\"<ipython-input-7-0af47fa31033>\"\u001b[0;36m, line \u001b[0;32m1\u001b[0m\n\u001b[0;31m    meu nome = 'Maria'\u001b[0m\n\u001b[0m           ^\u001b[0m\n\u001b[0;31mSyntaxError\u001b[0m\u001b[0;31m:\u001b[0m invalid syntax\n"
          ]
        }
      ]
    },
    {
      "cell_type": "code",
      "metadata": {
        "colab": {
          "base_uri": "https://localhost:8080/"
        },
        "id": "XZHQnI6A_udo",
        "outputId": "acb22898-e875-464f-f9f7-d2b66f2d4bc4"
      },
      "source": [
        "meu_nome = 'Maria'\n",
        "print(meu_nome)"
      ],
      "execution_count": 8,
      "outputs": [
        {
          "output_type": "stream",
          "text": [
            "Maria\n"
          ],
          "name": "stdout"
        }
      ]
    },
    {
      "cell_type": "code",
      "metadata": {
        "colab": {
          "base_uri": "https://localhost:8080/"
        },
        "id": "zrX70Y_K_zx_",
        "outputId": "ee549c99-20f8-4854-9345-b7ecb6a190ea"
      },
      "source": [
        "nome = 'Maria'\n",
        "print('Hello', nome, '!')"
      ],
      "execution_count": 9,
      "outputs": [
        {
          "output_type": "stream",
          "text": [
            "Hello Maria !\n"
          ],
          "name": "stdout"
        }
      ]
    },
    {
      "cell_type": "code",
      "metadata": {
        "colab": {
          "base_uri": "https://localhost:8080/"
        },
        "id": "9rUJ-LQ-AUpx",
        "outputId": "de4fd39f-b181-45fa-e84c-03e968314add"
      },
      "source": [
        "salario = 1245.30\n",
        "type(salario)\n"
      ],
      "execution_count": 10,
      "outputs": [
        {
          "output_type": "execute_result",
          "data": {
            "text/plain": [
              "float"
            ]
          },
          "metadata": {
            "tags": []
          },
          "execution_count": 10
        }
      ]
    },
    {
      "cell_type": "code",
      "metadata": {
        "colab": {
          "base_uri": "https://localhost:8080/"
        },
        "id": "mwxrUsiGAtYe",
        "outputId": "d2ad24c9-d3f2-4c01-c473-934faf9d98df"
      },
      "source": [
        "print('O meu salário é:', salario)"
      ],
      "execution_count": 11,
      "outputs": [
        {
          "output_type": "stream",
          "text": [
            "O meu salário é: 1245.3\n"
          ],
          "name": "stdout"
        }
      ]
    },
    {
      "cell_type": "code",
      "metadata": {
        "colab": {
          "base_uri": "https://localhost:8080/",
          "height": 128
        },
        "id": "r6lIKTU4A2i6",
        "outputId": "d1733812-9e17-420c-9ae2-82489f4d9242"
      },
      "source": [
        "salário$ = 1000\n",
        "type(salário$)"
      ],
      "execution_count": 12,
      "outputs": [
        {
          "output_type": "error",
          "ename": "SyntaxError",
          "evalue": "ignored",
          "traceback": [
            "\u001b[0;36m  File \u001b[0;32m\"<ipython-input-12-f7c01813481f>\"\u001b[0;36m, line \u001b[0;32m1\u001b[0m\n\u001b[0;31m    salário$ = 1000\u001b[0m\n\u001b[0m           ^\u001b[0m\n\u001b[0;31mSyntaxError\u001b[0m\u001b[0;31m:\u001b[0m invalid syntax\n"
          ]
        }
      ]
    },
    {
      "cell_type": "code",
      "metadata": {
        "colab": {
          "base_uri": "https://localhost:8080/"
        },
        "id": "9eiKNVUzBTO2",
        "outputId": "ad75c4c4-02d9-41e6-80ec-19e3123208eb"
      },
      "source": [
        "idade = 22\n",
        "IDADE = 23\n",
        "print(idade)\n",
        "print(IDADE)"
      ],
      "execution_count": 13,
      "outputs": [
        {
          "output_type": "stream",
          "text": [
            "22\n",
            "23\n"
          ],
          "name": "stdout"
        }
      ]
    },
    {
      "cell_type": "code",
      "metadata": {
        "colab": {
          "base_uri": "https://localhost:8080/"
        },
        "id": "V-riR7EQAIOe",
        "outputId": "f99212f6-d2df-46f8-e253-0b1cdd1f8536"
      },
      "source": [
        "nome = 'Maria'\n",
        "print('Hello, {}!'.format(nome))"
      ],
      "execution_count": 14,
      "outputs": [
        {
          "output_type": "stream",
          "text": [
            "Hello, Maria!\n"
          ],
          "name": "stdout"
        }
      ]
    },
    {
      "cell_type": "code",
      "metadata": {
        "colab": {
          "base_uri": "https://localhost:8080/"
        },
        "id": "WexAaLxlDfgB",
        "outputId": "6b7f4273-77d0-4116-b8eb-dd616eb5589e"
      },
      "source": [
        "idade = 24\n",
        "print('Minha idade é: {}'.format(idade))"
      ],
      "execution_count": 15,
      "outputs": [
        {
          "output_type": "stream",
          "text": [
            "Minha idade é: 24\n"
          ],
          "name": "stdout"
        }
      ]
    },
    {
      "cell_type": "code",
      "metadata": {
        "colab": {
          "base_uri": "https://localhost:8080/"
        },
        "id": "79CD9JOPDkvH",
        "outputId": "4587a4b5-13d4-4ae3-8e0a-eb2b30a9570f"
      },
      "source": [
        "print('Olá, meu nome é {} e eu tenho {} anos.'.format(nome, idade))"
      ],
      "execution_count": 16,
      "outputs": [
        {
          "output_type": "stream",
          "text": [
            "Olá, meu nome é Maria e eu tenho 24 anos.\n"
          ],
          "name": "stdout"
        }
      ]
    },
    {
      "cell_type": "markdown",
      "metadata": {
        "id": "JFfDb-RGCZgq"
      },
      "source": [
        "Armazene as informações abaixo em variáveis com suas informações e descubra o tipo de dado de cada uma delas: \n",
        "- Nome\n",
        "- Idade\n",
        "- Altura (em cm)\n",
        "- Estado civil\n",
        "- Número do sapato\n",
        "- Você tem CNH?\n"
      ]
    },
    {
      "cell_type": "code",
      "metadata": {
        "colab": {
          "base_uri": "https://localhost:8080/"
        },
        "id": "jOJOK14rEQtf",
        "outputId": "7b624245-d8a0-41a3-b395-b9305a3ba241"
      },
      "source": [
        "nome = 'Maria'\n",
        "type(nome)"
      ],
      "execution_count": 17,
      "outputs": [
        {
          "output_type": "execute_result",
          "data": {
            "text/plain": [
              "str"
            ]
          },
          "metadata": {
            "tags": []
          },
          "execution_count": 17
        }
      ]
    },
    {
      "cell_type": "code",
      "metadata": {
        "colab": {
          "base_uri": "https://localhost:8080/"
        },
        "id": "k0O4G-kGE5C-",
        "outputId": "f8959b97-f8a3-4ae8-a25c-a9210e019e6b"
      },
      "source": [
        "idade = 24\n",
        "type(idade)"
      ],
      "execution_count": 20,
      "outputs": [
        {
          "output_type": "execute_result",
          "data": {
            "text/plain": [
              "int"
            ]
          },
          "metadata": {
            "tags": []
          },
          "execution_count": 20
        }
      ]
    },
    {
      "cell_type": "code",
      "metadata": {
        "colab": {
          "base_uri": "https://localhost:8080/"
        },
        "id": "2FDizPKTE7xx",
        "outputId": "432845d8-a6d3-4cb9-8bfe-61ad92cd2f7f"
      },
      "source": [
        "altura = 1.66\n",
        "type(altura)"
      ],
      "execution_count": 19,
      "outputs": [
        {
          "output_type": "execute_result",
          "data": {
            "text/plain": [
              "float"
            ]
          },
          "metadata": {
            "tags": []
          },
          "execution_count": 19
        }
      ]
    },
    {
      "cell_type": "code",
      "metadata": {
        "colab": {
          "base_uri": "https://localhost:8080/"
        },
        "id": "uGXRfgnkFGR9",
        "outputId": "c632762e-431c-4df8-91d5-c009d9e008b6"
      },
      "source": [
        "estado_civil = 'solteira'\n",
        "type(estado_civil)"
      ],
      "execution_count": 21,
      "outputs": [
        {
          "output_type": "execute_result",
          "data": {
            "text/plain": [
              "str"
            ]
          },
          "metadata": {
            "tags": []
          },
          "execution_count": 21
        }
      ]
    },
    {
      "cell_type": "code",
      "metadata": {
        "colab": {
          "base_uri": "https://localhost:8080/"
        },
        "id": "3WpQuCWqFK1i",
        "outputId": "0110746c-1ec7-46a7-c8fa-ce875e37e28e"
      },
      "source": [
        "sapato = 36\n",
        "type(sapato)"
      ],
      "execution_count": 22,
      "outputs": [
        {
          "output_type": "execute_result",
          "data": {
            "text/plain": [
              "int"
            ]
          },
          "metadata": {
            "tags": []
          },
          "execution_count": 22
        }
      ]
    },
    {
      "cell_type": "code",
      "metadata": {
        "colab": {
          "base_uri": "https://localhost:8080/"
        },
        "id": "EXCp75AQFRcf",
        "outputId": "79c00e99-2e19-4056-cc31-40b0c64f854c"
      },
      "source": [
        "cnh = True\n",
        "type(cnh)"
      ],
      "execution_count": 23,
      "outputs": [
        {
          "output_type": "execute_result",
          "data": {
            "text/plain": [
              "bool"
            ]
          },
          "metadata": {
            "tags": []
          },
          "execution_count": 23
        }
      ]
    },
    {
      "cell_type": "markdown",
      "metadata": {
        "id": "hJzm-JR0G-9V"
      },
      "source": [
        "# Operadores aritméticos\n",
        "\n",
        "\n",
        "| Operador | Significado   | Exemplo                    |\n",
        "|:---|:---|:---|\n",
        "|     +    | Adição        | a = 3 + 2                  |\n",
        "|     -    | Subtração     | b = 7 - a                  |\n",
        "|     *    | Multiplicação | c = a * b                  |\n",
        "|     /    | Divisão       | d = 10/3                   |\n",
        "|    //    | Quociente     | e = 10//3                  |\n",
        "|     %    | Resto         | f = 10%3                   |\n",
        "|    **    | Exponenciação | g = 2 ** 3                 |\n",
        "|    **    | Radiciação    | h = 16 ** (1/2)            |\n",
        "\n",
        "## Precedência de Operadores\n",
        "\n",
        "1. Parênteses\n",
        "2. Potenciação\n",
        "3. Multiplicação e divisão\n",
        "4. Soma e substração"
      ]
    },
    {
      "cell_type": "code",
      "metadata": {
        "colab": {
          "base_uri": "https://localhost:8080/"
        },
        "id": "feiUzXo7Ifj-",
        "outputId": "fe311d9f-3c45-4658-bb93-2f671bab6133"
      },
      "source": [
        "# Soma\n",
        "3 + 2"
      ],
      "execution_count": 24,
      "outputs": [
        {
          "output_type": "execute_result",
          "data": {
            "text/plain": [
              "5"
            ]
          },
          "metadata": {
            "tags": []
          },
          "execution_count": 24
        }
      ]
    },
    {
      "cell_type": "code",
      "metadata": {
        "colab": {
          "base_uri": "https://localhost:8080/"
        },
        "id": "6HpfCrT9I_tE",
        "outputId": "05157ec7-5be7-4c72-f3fe-0d7a4ee06716"
      },
      "source": [
        "# Subtração\n",
        "3 - 2"
      ],
      "execution_count": 25,
      "outputs": [
        {
          "output_type": "execute_result",
          "data": {
            "text/plain": [
              "1"
            ]
          },
          "metadata": {
            "tags": []
          },
          "execution_count": 25
        }
      ]
    },
    {
      "cell_type": "code",
      "metadata": {
        "colab": {
          "base_uri": "https://localhost:8080/"
        },
        "id": "I7uGi1ggJDao",
        "outputId": "e2f7688a-d2da-442d-f569-5c4ce146aa34"
      },
      "source": [
        "# Multiplicação\n",
        "3.4 * 3"
      ],
      "execution_count": 26,
      "outputs": [
        {
          "output_type": "execute_result",
          "data": {
            "text/plain": [
              "10.2"
            ]
          },
          "metadata": {
            "tags": []
          },
          "execution_count": 26
        }
      ]
    },
    {
      "cell_type": "code",
      "metadata": {
        "colab": {
          "base_uri": "https://localhost:8080/"
        },
        "id": "FxUq6q3YJJ6h",
        "outputId": "427bee52-51c7-4520-de5b-36d4a803ec88"
      },
      "source": [
        "# Divisão\n",
        "25 / 5"
      ],
      "execution_count": 27,
      "outputs": [
        {
          "output_type": "execute_result",
          "data": {
            "text/plain": [
              "5.0"
            ]
          },
          "metadata": {
            "tags": []
          },
          "execution_count": 27
        }
      ]
    },
    {
      "cell_type": "code",
      "metadata": {
        "colab": {
          "base_uri": "https://localhost:8080/"
        },
        "id": "DEfnZg5zJR_l",
        "outputId": "ef1d6059-bc47-4abd-86e2-2ee07bb2d657"
      },
      "source": [
        "# Quociente\n",
        "10 // 3"
      ],
      "execution_count": 28,
      "outputs": [
        {
          "output_type": "execute_result",
          "data": {
            "text/plain": [
              "3"
            ]
          },
          "metadata": {
            "tags": []
          },
          "execution_count": 28
        }
      ]
    },
    {
      "cell_type": "code",
      "metadata": {
        "colab": {
          "base_uri": "https://localhost:8080/"
        },
        "id": "2ZX1fPy6Jvdm",
        "outputId": "ba683c26-b3b6-4779-ce33-bbba19f47014"
      },
      "source": [
        "# Resto da divisão\n",
        "10 % 2"
      ],
      "execution_count": 29,
      "outputs": [
        {
          "output_type": "execute_result",
          "data": {
            "text/plain": [
              "0"
            ]
          },
          "metadata": {
            "tags": []
          },
          "execution_count": 29
        }
      ]
    },
    {
      "cell_type": "code",
      "metadata": {
        "colab": {
          "base_uri": "https://localhost:8080/"
        },
        "id": "dkuG84jpKDUt",
        "outputId": "18d8cb63-aeec-44b1-dd0b-5709c6517f1f"
      },
      "source": [
        "# Exponenciação\n",
        "3 ** 2"
      ],
      "execution_count": 30,
      "outputs": [
        {
          "output_type": "execute_result",
          "data": {
            "text/plain": [
              "9"
            ]
          },
          "metadata": {
            "tags": []
          },
          "execution_count": 30
        }
      ]
    },
    {
      "cell_type": "code",
      "metadata": {
        "colab": {
          "base_uri": "https://localhost:8080/"
        },
        "id": "K02te5v6KIbY",
        "outputId": "3d62cbf6-ff6d-4fa0-f304-3684737279c9"
      },
      "source": [
        "# Radiciação\n",
        "16 ** (1/2)"
      ],
      "execution_count": 31,
      "outputs": [
        {
          "output_type": "execute_result",
          "data": {
            "text/plain": [
              "4.0"
            ]
          },
          "metadata": {
            "tags": []
          },
          "execution_count": 31
        }
      ]
    },
    {
      "cell_type": "code",
      "metadata": {
        "colab": {
          "base_uri": "https://localhost:8080/"
        },
        "id": "w2bKbHmyIt5V",
        "outputId": "8e8e0469-1004-4084-c86d-154f3e902e4c"
      },
      "source": [
        "# 3 - 2\n",
        "n1 = 3\n",
        "n2 = 2\n",
        "subtracao = n1 - n2\n",
        "print(subtracao)"
      ],
      "execution_count": 32,
      "outputs": [
        {
          "output_type": "stream",
          "text": [
            "1\n"
          ],
          "name": "stdout"
        }
      ]
    },
    {
      "cell_type": "code",
      "metadata": {
        "colab": {
          "base_uri": "https://localhost:8080/"
        },
        "id": "23E55TlSI3Cp",
        "outputId": "6b977aef-9115-45b1-afea-74097052a7a8"
      },
      "source": [
        "n1 = int(input('Digite um número: '))\n",
        "n2 = int(input('Digite um número: '))\n",
        "subtracao = n1 - n2\n",
        "print(subtracao)\n"
      ],
      "execution_count": 33,
      "outputs": [
        {
          "output_type": "stream",
          "text": [
            "Digite um número: 5\n",
            "Digite um número: 4\n",
            "1\n"
          ],
          "name": "stdout"
        }
      ]
    },
    {
      "cell_type": "code",
      "metadata": {
        "colab": {
          "base_uri": "https://localhost:8080/"
        },
        "id": "Q2M1ukwuLqH7",
        "outputId": "a8f08540-4f3a-48cb-c071-39605f4b0ebb"
      },
      "source": [
        "#Se eu quiser mostrar o código anterior porém com mensagem associada\n",
        "n1 = int(input('Digite um número: '))\n",
        "n2 = int(input('Digite um número: '))\n",
        "subtracao = n1 - n2\n",
        "print('{} - {} é igual à {}.'.format(n1, n2, subtracao))"
      ],
      "execution_count": 34,
      "outputs": [
        {
          "output_type": "stream",
          "text": [
            "Digite um número: 5\n",
            "Digite um número: 4\n",
            "5 - 4 é igual à 1.\n"
          ],
          "name": "stdout"
        }
      ]
    },
    {
      "cell_type": "markdown",
      "metadata": {
        "id": "41s8S9GiK-cu"
      },
      "source": [
        "Executando equações:\n",
        "\n",
        "$ 2+3*4/5-6 $"
      ]
    },
    {
      "cell_type": "code",
      "metadata": {
        "colab": {
          "base_uri": "https://localhost:8080/"
        },
        "id": "7O_iZr37LDHT",
        "outputId": "86e91e85-e3c1-4ec6-d178-5e5688a2a2ea"
      },
      "source": [
        "2 + 3 * 4 / 5 - 6"
      ],
      "execution_count": 35,
      "outputs": [
        {
          "output_type": "execute_result",
          "data": {
            "text/plain": [
              "-1.5999999999999996"
            ]
          },
          "metadata": {
            "tags": []
          },
          "execution_count": 35
        }
      ]
    },
    {
      "cell_type": "markdown",
      "metadata": {
        "id": "JHFcZzN2LPsa"
      },
      "source": [
        "Agora a mesma equação acima, mas alterando a precedência para que as operações de soma e subtração sejam executadas antes das outras. _Dica: use parênteses._"
      ]
    },
    {
      "cell_type": "code",
      "metadata": {
        "colab": {
          "base_uri": "https://localhost:8080/"
        },
        "id": "AXenDUo6LLJH",
        "outputId": "739196ad-a0e6-474b-cd84-c1047ce8a093"
      },
      "source": [
        "(2 + 3) * 4 / (5 - 6)"
      ],
      "execution_count": 36,
      "outputs": [
        {
          "output_type": "execute_result",
          "data": {
            "text/plain": [
              "-20.0"
            ]
          },
          "metadata": {
            "tags": []
          },
          "execution_count": 36
        }
      ]
    },
    {
      "cell_type": "markdown",
      "metadata": {
        "id": "apYcXyeCNseo"
      },
      "source": [
        "# Operadores relacionais (operadores de comparação)\n",
        "\n",
        "| Operador | Significado   | Exemplo                    |\n",
        "|:---|:---|:---|\n",
        "| == | Igualdade | a == b |\n",
        "| != | DesiIgualdade | a != b |\n",
        "| > | Maior que | a > b |\n",
        "| < | Menor que | a < b |\n",
        "| >= | Maior ou igual | a >= b |\n",
        "| <= | Menor ou igual | a <= b |"
      ]
    },
    {
      "cell_type": "code",
      "metadata": {
        "id": "k9Z1MZDINumt"
      },
      "source": [
        "a = 5\n",
        "b = 3\n",
        "a == b"
      ],
      "execution_count": null,
      "outputs": []
    },
    {
      "cell_type": "code",
      "metadata": {
        "colab": {
          "base_uri": "https://localhost:8080/"
        },
        "id": "pH4C3lFUOEJG",
        "outputId": "08eb5bc2-151b-4f89-d172-05f51628e2eb"
      },
      "source": [
        "a > b"
      ],
      "execution_count": 38,
      "outputs": [
        {
          "output_type": "execute_result",
          "data": {
            "text/plain": [
              "True"
            ]
          },
          "metadata": {
            "tags": []
          },
          "execution_count": 38
        }
      ]
    },
    {
      "cell_type": "code",
      "metadata": {
        "colab": {
          "base_uri": "https://localhost:8080/"
        },
        "id": "Ed94oBkmOI_w",
        "outputId": "64dc5300-36dc-4b1f-88b4-21b900dab16d"
      },
      "source": [
        "a != b"
      ],
      "execution_count": 39,
      "outputs": [
        {
          "output_type": "execute_result",
          "data": {
            "text/plain": [
              "True"
            ]
          },
          "metadata": {
            "tags": []
          },
          "execution_count": 39
        }
      ]
    },
    {
      "cell_type": "code",
      "metadata": {
        "colab": {
          "base_uri": "https://localhost:8080/"
        },
        "id": "i7kKKOBeNx8s",
        "outputId": "164c263c-6129-40bb-9263-03a81596e873"
      },
      "source": [
        "a = int(input('Valor de a: '))\n",
        "b = int(input('Valor de b: '))\n",
        "a == b"
      ],
      "execution_count": 40,
      "outputs": [
        {
          "output_type": "stream",
          "text": [
            "Valor de a: 5\n",
            "Valor de b: 6\n"
          ],
          "name": "stdout"
        },
        {
          "output_type": "execute_result",
          "data": {
            "text/plain": [
              "False"
            ]
          },
          "metadata": {
            "tags": []
          },
          "execution_count": 40
        }
      ]
    },
    {
      "cell_type": "markdown",
      "metadata": {
        "id": "KZyVlDb7dBnR"
      },
      "source": [
        "## Exercícios práticos"
      ]
    },
    {
      "cell_type": "markdown",
      "metadata": {
        "id": "oNMsnHKudSYb"
      },
      "source": [
        "### Exercício 1:\n",
        "Faça um programa que pergunte seu nome e armazene essa entrada/input na variável **nome**. Após, utilizando a variável criada, retorne uma mensagem em tela seguindo esse formato: \n",
        "\n",
        "- **Olá,** `seu nome`**!**\n",
        "- Exemplo: Olá, Maria!"
      ]
    },
    {
      "cell_type": "code",
      "metadata": {
        "colab": {
          "base_uri": "https://localhost:8080/"
        },
        "id": "f2GnZqCJcSL_",
        "outputId": "3500cb11-ce6e-4e51-c6d4-bf4529f4bf95"
      },
      "source": [
        "nome = str(input('Qual seu nome? '))\n",
        "print('Olá,', nome, '!')"
      ],
      "execution_count": 41,
      "outputs": [
        {
          "output_type": "stream",
          "text": [
            "Qual seu nome? Maria\n",
            "Olá, Maria !\n"
          ],
          "name": "stdout"
        }
      ]
    },
    {
      "cell_type": "markdown",
      "metadata": {
        "id": "Yn9BrnzAgReE"
      },
      "source": [
        "### Exercício 2:\n",
        "Repita o exercício 1, porém agora utilizando a saída formatada."
      ]
    },
    {
      "cell_type": "code",
      "metadata": {
        "colab": {
          "base_uri": "https://localhost:8080/"
        },
        "id": "HtOo5it5gfoY",
        "outputId": "c6e6a913-469b-4d8e-86a0-cee3b657de50"
      },
      "source": [
        "nome = str(input('Qual seu nome? '))\n",
        "print('Olá, {}!'.format(nome))"
      ],
      "execution_count": 42,
      "outputs": [
        {
          "output_type": "stream",
          "text": [
            "Qual seu nome? Maria\n",
            "Olá, Maria!\n"
          ],
          "name": "stdout"
        }
      ]
    },
    {
      "cell_type": "markdown",
      "metadata": {
        "id": "PaejZWuMjE1l"
      },
      "source": [
        "### Exercício 3:\n",
        "Crie um programa que peça para você digitar dois números (tipo float) e mostre a soma entre eles utilizando a mensagem: \n",
        "- **A soma entre** `número 1` **e** `número 2` **é:** `soma `\n",
        "\n",
        "- Exemplo: A soma entre 2.0 e 4.5 é: 6.5\n",
        "\n",
        "Dica: você pode armazenar os números nas variáveis **n1 e n2**, e a soma na variável **soma**. Utilize a saída formatada."
      ]
    },
    {
      "cell_type": "code",
      "metadata": {
        "colab": {
          "base_uri": "https://localhost:8080/"
        },
        "id": "37Kpmd2ykQMt",
        "outputId": "9d3f6fae-c337-46ed-e982-73ebb762814c"
      },
      "source": [
        "n1 = float(input('Digite o primeiro número: '))\n",
        "n2 = float(input('Digite o segundo número: '))\n",
        "soma = n1 + n2\n",
        "print('A soma entre {} e {} é: {}'.format(n1, n2, soma))"
      ],
      "execution_count": 43,
      "outputs": [
        {
          "output_type": "stream",
          "text": [
            "Digite o primeiro número: 2\n",
            "Digite o segundo número: 4.5\n",
            "A soma entre 2.0 e 4.5 é: 6.5\n"
          ],
          "name": "stdout"
        }
      ]
    },
    {
      "cell_type": "markdown",
      "metadata": {
        "id": "BqnHKt3YozEP"
      },
      "source": [
        "### Exercício 4:\n",
        "Faça um programa que leia/receba a entrada de um número inteiro e mostre na tela o seu sucessor e seu antecessor.\n",
        "- Exemplo de mensagem de retorno: O antecessor do número 5 é 4 e o sucessor é 6."
      ]
    },
    {
      "cell_type": "code",
      "metadata": {
        "colab": {
          "base_uri": "https://localhost:8080/"
        },
        "id": "vc4DEO7coy0z",
        "outputId": "ad6c16f1-3aca-4663-cb67-39bc9dcdc4cc"
      },
      "source": [
        "num = int(input('Digite um número: '))\n",
        "antecessor = num - 1\n",
        "sucessor = num + 1\n",
        "\n",
        "print('O antecessor do número {} é {} e o sucessor é {}'.format(num, antecessor, sucessor))"
      ],
      "execution_count": 44,
      "outputs": [
        {
          "output_type": "stream",
          "text": [
            "Digite um número: 5\n",
            "O antecessor do número 5 é 4 e o sucessor é 6\n"
          ],
          "name": "stdout"
        }
      ]
    },
    {
      "cell_type": "markdown",
      "metadata": {
        "id": "WbHYUFMAq8HL"
      },
      "source": [
        "### Exercício 5: \n",
        "\n",
        "Utilizando as operações matemáticas vistas em aula, calcule o perímetro e a área de um círculo.\n",
        "\n",
        "Armazene o raio na variável **radius** e os valores calculados, nas variáveis **circle_perimeter** e **circle_area**. \n",
        "\n",
        "Obs: Para pi utilize o valor de 3.14. O valor do raio pode ser 5, ou qualquer valor a sua escolha. "
      ]
    },
    {
      "cell_type": "code",
      "metadata": {
        "id": "5NavmrEqqvU1"
      },
      "source": [
        "pi = 3.14\n",
        "radius = 5"
      ],
      "execution_count": 45,
      "outputs": []
    },
    {
      "cell_type": "code",
      "metadata": {
        "colab": {
          "base_uri": "https://localhost:8080/"
        },
        "id": "7OfzrFi1tVi7",
        "outputId": "77e495e4-d49b-44cf-9606-9edc774a7f6a"
      },
      "source": [
        "circle_perimeter = 2 * pi * radius \n",
        "circle_perimeter"
      ],
      "execution_count": 46,
      "outputs": [
        {
          "output_type": "execute_result",
          "data": {
            "text/plain": [
              "31.400000000000002"
            ]
          },
          "metadata": {
            "tags": []
          },
          "execution_count": 46
        }
      ]
    },
    {
      "cell_type": "code",
      "metadata": {
        "colab": {
          "base_uri": "https://localhost:8080/"
        },
        "id": "AXFiB9RztaWj",
        "outputId": "0975dd43-49dd-4379-c32c-daf8edf32f36"
      },
      "source": [
        "circle_area = pi * (radius ** 2)\n",
        "circle_area"
      ],
      "execution_count": 47,
      "outputs": [
        {
          "output_type": "execute_result",
          "data": {
            "text/plain": [
              "78.5"
            ]
          },
          "metadata": {
            "tags": []
          },
          "execution_count": 47
        }
      ]
    },
    {
      "cell_type": "markdown",
      "metadata": {
        "id": "blfNCN7yt_0Q"
      },
      "source": [
        "### Exercício 6: \n",
        "Desenvolva um programa que calcule e mostre a média entre as notas de um aluno, sendo as notas: \n",
        "-  Prova 1: 8\n",
        "- Prova 2: 9.5\n",
        "- Prova 3: 6\n",
        "\n",
        "OBS: Utilize a variável **mean** para armazenar o valor de média obtida. "
      ]
    },
    {
      "cell_type": "code",
      "metadata": {
        "colab": {
          "base_uri": "https://localhost:8080/"
        },
        "id": "CIO9AK8suvOR",
        "outputId": "51659ca4-e694-4d2d-994e-8b6e3ff05af1"
      },
      "source": [
        "mean = (8 + 9.5 + 6) / 3\n",
        "mean"
      ],
      "execution_count": 48,
      "outputs": [
        {
          "output_type": "execute_result",
          "data": {
            "text/plain": [
              "7.833333333333333"
            ]
          },
          "metadata": {
            "tags": []
          },
          "execution_count": 48
        }
      ]
    },
    {
      "cell_type": "markdown",
      "metadata": {
        "id": "09y6uD_Cw-zh"
      },
      "source": [
        "### Exercício 7:\n",
        "Faça um programa que leia a largura e a altura de uma parede retangular em metros, calcule a sua área e a quantidade de tinta necessária para pintá-la, sabendo que cada litro de tinta pinta uma área de 2 metros quadrados."
      ]
    },
    {
      "cell_type": "code",
      "metadata": {
        "colab": {
          "base_uri": "https://localhost:8080/"
        },
        "id": "2YT7-9A6xC8Z",
        "outputId": "fba4f58e-4e82-4b49-8234-e812b24cb4aa"
      },
      "source": [
        "largura = float(input('Largura da parede: '))\n",
        "altura = float(input('Altura da parede: '))\n",
        "\n",
        "area = largura * altura #em metros quadrados\n",
        "\n",
        "tinta = area / 2\n",
        "\n",
        "print('A área será de {} m² e a quantidade de tinta utilizada será de {} litros.'.format(area, tinta))"
      ],
      "execution_count": 49,
      "outputs": [
        {
          "output_type": "stream",
          "text": [
            "Largura da parede: 5\n",
            "Altura da parede: 6\n",
            "A área será de 30.0 m² e a quantidade de tinta utilizada será de 15.0 litros.\n"
          ],
          "name": "stdout"
        }
      ]
    },
    {
      "cell_type": "markdown",
      "metadata": {
        "id": "s_TDl63RML4X"
      },
      "source": [
        "### Exercício 8:\n",
        "Converta a equação abaixo para um código em Python e obtenha o resultado.\n",
        "\n",
        "Dica: Não esqueça das precedências dos operadores.\n",
        "\n",
        "$ \\sqrt{\\frac{(2-3)^{2}}{4}}$"
      ]
    },
    {
      "cell_type": "code",
      "metadata": {
        "colab": {
          "base_uri": "https://localhost:8080/"
        },
        "id": "ZKc90E2bMlMl",
        "outputId": "b41f968e-6cc7-4583-beb5-3c77d2aa2dda"
      },
      "source": [
        "((2-3)**2/4)**(1/2)"
      ],
      "execution_count": 50,
      "outputs": [
        {
          "output_type": "execute_result",
          "data": {
            "text/plain": [
              "0.5"
            ]
          },
          "metadata": {
            "tags": []
          },
          "execution_count": 50
        }
      ]
    },
    {
      "cell_type": "markdown",
      "metadata": {
        "id": "SHOP5KRCz69W"
      },
      "source": [
        "### Exercício 9:\n",
        "Escreva um programa que pergunte a quantidade de Km percorridos por um carro alugado e a quantidade de dias pelos quais ele foi alugado. \n",
        "\n",
        "Calcule o preço a pagar, sabendo que o carro custa **80 reais por dia** e **0.20 reais (20 centavos) por Km rodado**."
      ]
    },
    {
      "cell_type": "code",
      "metadata": {
        "colab": {
          "base_uri": "https://localhost:8080/"
        },
        "id": "LI5daoKQ0cpp",
        "outputId": "f03d3026-f2c2-455b-ff2f-e58611d0fd10"
      },
      "source": [
        "km = float(input('Quantos km foram percorridos? '))\n",
        "days = int(input('Por quantos dias o carro foi alugado? '))\n",
        "\n",
        "price = (days * 80) + (km * 0.20)\n",
        "print('O preço a pagar é de {} reais'.format(price))"
      ],
      "execution_count": 51,
      "outputs": [
        {
          "output_type": "stream",
          "text": [
            "Quantos km foram percorridos? 5\n",
            "Por quantos dias o carro foi alugado? 20\n",
            "O preço a pagar é de 1601.0 reais\n"
          ],
          "name": "stdout"
        }
      ]
    }
  ]
}