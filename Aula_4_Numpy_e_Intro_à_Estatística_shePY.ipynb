{
  "nbformat": 4,
  "nbformat_minor": 0,
  "metadata": {
    "colab": {
      "name": "Aula 4 - Numpy e Intro à Estatística - shePY.ipynb",
      "provenance": [],
      "authorship_tag": "ABX9TyPtCyG61G0FMPKVHCD6nc3w",
      "include_colab_link": true
    },
    "kernelspec": {
      "name": "python3",
      "display_name": "Python 3"
    },
    "language_info": {
      "name": "python"
    }
  },
  "cells": [
    {
      "cell_type": "markdown",
      "metadata": {
        "id": "view-in-github",
        "colab_type": "text"
      },
      "source": [
        "<a href=\"https://colab.research.google.com/github/mariacmartins/shepy/blob/main/Aula_4_Numpy_e_Intro_%C3%A0_Estat%C3%ADstica_shePY.ipynb\" target=\"_parent\"><img src=\"https://colab.research.google.com/assets/colab-badge.svg\" alt=\"Open In Colab\"/></a>"
      ]
    },
    {
      "cell_type": "markdown",
      "metadata": {
        "id": "9VD-IBbRUAfl"
      },
      "source": [
        "# Aula 4 - shePY\n",
        "\n",
        "## NumPy - Numerical Python:\n",
        "NumPy é uma poderosa biblioteca que suporta **arrays** e **matrizes** e muito importante para processamento númerico em Python. Esses tipos de cálculos numéricos são amplamente utilizados em tarefas como: Modelos de Machine Learning, Visão Computacional e tarefas matemáticas.\n",
        "\n",
        "Eis alguns recursos do Numpy:\n",
        "- ndarray: um array multidimensional eficaz que oferece operações rápidas;\n",
        "- funções matemáticas para operações rápidas em arrays de dados, sem que haja necessidade de escrever laços;\n",
        "\n",
        "Em **Python**, arrays são estruturas de dados semelhantes às listas, mas não tão flexíveis, pois possuem um tamanho fixo informado no momento em que são inicializados. O array usa menos memória do que a lista, é mais rápido nas operações de leitura e possibilita executar operações matemáticas sobre todos os itens de uma só vez.\n",
        "\n"
      ]
    },
    {
      "cell_type": "markdown",
      "metadata": {
        "id": "w6joSXNLnHe4"
      },
      "source": [
        "### Criando arrays com Numpy:"
      ]
    },
    {
      "cell_type": "markdown",
      "metadata": {
        "id": "ZROPH7Zns4js"
      },
      "source": [
        "**Arrays de 1 dimensão:**"
      ]
    },
    {
      "cell_type": "code",
      "metadata": {
        "id": "68xqMw-xnVte"
      },
      "source": [
        "import numpy as np"
      ],
      "execution_count": 1,
      "outputs": []
    },
    {
      "cell_type": "code",
      "metadata": {
        "colab": {
          "base_uri": "https://localhost:8080/"
        },
        "id": "G7Bmik4TP-HT",
        "outputId": "a2f14df5-4b0d-45ce-9cb0-386c6d6fccf2"
      },
      "source": [
        "#Criando um array a partir de uma lista\n",
        "mylist = [1, 2, 3]\n",
        "myarray = np.array(mylist)\n",
        "myarray"
      ],
      "execution_count": 2,
      "outputs": [
        {
          "output_type": "execute_result",
          "data": {
            "text/plain": [
              "array([1, 2, 3])"
            ]
          },
          "metadata": {
            "tags": []
          },
          "execution_count": 2
        }
      ]
    },
    {
      "cell_type": "code",
      "metadata": {
        "colab": {
          "base_uri": "https://localhost:8080/"
        },
        "id": "RgjKJgDlswK3",
        "outputId": "2c9a77b7-e220-4514-8af6-6338e87c202b"
      },
      "source": [
        "myarray = np.array([1, 2, 3])\n",
        "myarray"
      ],
      "execution_count": 3,
      "outputs": [
        {
          "output_type": "execute_result",
          "data": {
            "text/plain": [
              "array([1, 2, 3])"
            ]
          },
          "metadata": {
            "tags": []
          },
          "execution_count": 3
        }
      ]
    },
    {
      "cell_type": "code",
      "metadata": {
        "colab": {
          "base_uri": "https://localhost:8080/"
        },
        "id": "j4forpxVw8_n",
        "outputId": "d9bc4611-bdb7-47ab-85a3-e5736813a9c6"
      },
      "source": [
        "#Criando um array com arange, sendo o intervalo de 0 a 10.\n",
        "a1d = np.arange(0, 10)\n",
        "a1d "
      ],
      "execution_count": 4,
      "outputs": [
        {
          "output_type": "execute_result",
          "data": {
            "text/plain": [
              "array([0, 1, 2, 3, 4, 5, 6, 7, 8, 9])"
            ]
          },
          "metadata": {
            "tags": []
          },
          "execution_count": 4
        }
      ]
    },
    {
      "cell_type": "code",
      "metadata": {
        "colab": {
          "base_uri": "https://localhost:8080/"
        },
        "id": "30vk6c8_ZKFh",
        "outputId": "87dc6b01-ff4d-4a6d-c32d-8aa347bccec7"
      },
      "source": [
        "#Criando um array de zeros.\n",
        "zeros = np.zeros(5)\n",
        "zeros"
      ],
      "execution_count": 5,
      "outputs": [
        {
          "output_type": "execute_result",
          "data": {
            "text/plain": [
              "array([0., 0., 0., 0., 0.])"
            ]
          },
          "metadata": {
            "tags": []
          },
          "execution_count": 5
        }
      ]
    },
    {
      "cell_type": "markdown",
      "metadata": {
        "id": "utZp59zNZj4l"
      },
      "source": [
        "**Arrays de 2 dimensões:**"
      ]
    },
    {
      "cell_type": "code",
      "metadata": {
        "colab": {
          "base_uri": "https://localhost:8080/"
        },
        "id": "UV0imiVvZjll",
        "outputId": "91a1e667-40e9-45b8-baf2-7df5939b87be"
      },
      "source": [
        "a2D = np.array([ [1, 2, 3], [4, 5, 6], [7, 8, 9]])\n",
        "a2D"
      ],
      "execution_count": 6,
      "outputs": [
        {
          "output_type": "execute_result",
          "data": {
            "text/plain": [
              "array([[1, 2, 3],\n",
              "       [4, 5, 6],\n",
              "       [7, 8, 9]])"
            ]
          },
          "metadata": {
            "tags": []
          },
          "execution_count": 6
        }
      ]
    },
    {
      "cell_type": "code",
      "metadata": {
        "colab": {
          "base_uri": "https://localhost:8080/"
        },
        "id": "dL92l2IMZ81m",
        "outputId": "f618a66d-8b47-46c9-8130-a37d379b9d3c"
      },
      "source": [
        "zeros2d = np.zeros(shape=(3, 4)) # 3 linhas e 4 colunas\n",
        "zeros2d"
      ],
      "execution_count": 7,
      "outputs": [
        {
          "output_type": "execute_result",
          "data": {
            "text/plain": [
              "array([[0., 0., 0., 0.],\n",
              "       [0., 0., 0., 0.],\n",
              "       [0., 0., 0., 0.]])"
            ]
          },
          "metadata": {
            "tags": []
          },
          "execution_count": 7
        }
      ]
    },
    {
      "cell_type": "markdown",
      "metadata": {
        "id": "kJOxKWWpa3DQ"
      },
      "source": [
        "**Arrays de 3 dimensões:**"
      ]
    },
    {
      "cell_type": "code",
      "metadata": {
        "colab": {
          "base_uri": "https://localhost:8080/"
        },
        "id": "Nf9U0EEsaxC-",
        "outputId": "db9701f7-8625-478b-89cf-eeb6b5012c97"
      },
      "source": [
        "a3D = np.array( [ [ [1,2,3], [4,5,6], [7,8,9] ], [ [11,12,13], [14,15,16], [17,18,19] ], [ [21,22,23], [24,25,26], [27,28,29] ]])\n",
        "a3D"
      ],
      "execution_count": 8,
      "outputs": [
        {
          "output_type": "execute_result",
          "data": {
            "text/plain": [
              "array([[[ 1,  2,  3],\n",
              "        [ 4,  5,  6],\n",
              "        [ 7,  8,  9]],\n",
              "\n",
              "       [[11, 12, 13],\n",
              "        [14, 15, 16],\n",
              "        [17, 18, 19]],\n",
              "\n",
              "       [[21, 22, 23],\n",
              "        [24, 25, 26],\n",
              "        [27, 28, 29]]])"
            ]
          },
          "metadata": {
            "tags": []
          },
          "execution_count": 8
        }
      ]
    },
    {
      "cell_type": "code",
      "metadata": {
        "colab": {
          "base_uri": "https://localhost:8080/"
        },
        "id": "YQrmoK5Ea9MG",
        "outputId": "307ba5c2-ad85-4fbc-90e8-162a04fc6e84"
      },
      "source": [
        "zeros3d = np.zeros(shape=(3, 4, 2)) # 3 páginas, 4 linhas e 2 colunas\n",
        "zeros3d"
      ],
      "execution_count": 9,
      "outputs": [
        {
          "output_type": "execute_result",
          "data": {
            "text/plain": [
              "array([[[0., 0.],\n",
              "        [0., 0.],\n",
              "        [0., 0.],\n",
              "        [0., 0.]],\n",
              "\n",
              "       [[0., 0.],\n",
              "        [0., 0.],\n",
              "        [0., 0.],\n",
              "        [0., 0.]],\n",
              "\n",
              "       [[0., 0.],\n",
              "        [0., 0.],\n",
              "        [0., 0.],\n",
              "        [0., 0.]]])"
            ]
          },
          "metadata": {
            "tags": []
          },
          "execution_count": 9
        }
      ]
    },
    {
      "cell_type": "markdown",
      "metadata": {
        "id": "a-wygtJVcN_d"
      },
      "source": [
        "## Comparação da performance do NumPy"
      ]
    },
    {
      "cell_type": "code",
      "metadata": {
        "colab": {
          "base_uri": "https://localhost:8080/"
        },
        "id": "CvCEsgcKcQnV",
        "outputId": "2bce8d22-aa76-465e-9b18-2bf84573a958"
      },
      "source": [
        "idades = np.random.randint(50, size=1000)\n",
        "len(idades)"
      ],
      "execution_count": 10,
      "outputs": [
        {
          "output_type": "execute_result",
          "data": {
            "text/plain": [
              "1000"
            ]
          },
          "metadata": {
            "tags": []
          },
          "execution_count": 10
        }
      ]
    },
    {
      "cell_type": "code",
      "metadata": {
        "colab": {
          "base_uri": "https://localhost:8080/"
        },
        "id": "_CNPWhMFdrbw",
        "outputId": "a638b061-aa0c-40ce-c6cc-39401b524e45"
      },
      "source": [
        "%timeit sum(idades) # Somar as idades usando a função sum() do Python"
      ],
      "execution_count": 11,
      "outputs": [
        {
          "output_type": "stream",
          "text": [
            "10000 loops, best of 5: 186 µs per loop\n"
          ],
          "name": "stdout"
        }
      ]
    },
    {
      "cell_type": "code",
      "metadata": {
        "colab": {
          "base_uri": "https://localhost:8080/"
        },
        "id": "h2UBdihceEcm",
        "outputId": "bd32e2d5-84c2-42a0-b588-63c2abd5d305"
      },
      "source": [
        "%timeit np.sum(idades) # Somar as idades usando a função np.sum() do Numpy"
      ],
      "execution_count": 12,
      "outputs": [
        {
          "output_type": "stream",
          "text": [
            "The slowest run took 14.44 times longer than the fastest. This could mean that an intermediate result is being cached.\n",
            "100000 loops, best of 5: 4.75 µs per loop\n"
          ],
          "name": "stdout"
        }
      ]
    },
    {
      "cell_type": "markdown",
      "metadata": {
        "id": "hgi1TXvXexVF"
      },
      "source": [
        "## Introdução à Estatística básica"
      ]
    },
    {
      "cell_type": "markdown",
      "metadata": {
        "id": "ePe0M5Mge2q1"
      },
      "source": [
        "## População e amostra\n",
        "Uma população é um conjunto de pessoas, itens ou eventos sobre os quais você quer fazer inferências. Uma amostra é um subconjunto de uma população que se analisa para fazer inferências. \n",
        "\n",
        "## Tipos de Dados\n",
        "- Qualitativos: Consistem em atributos, qualidades, características.\n",
        "  - Nominais: Esses dados representam nomes, rótulos ou categorias que\n",
        "não têm ordem ou hierarquia.\n",
        "  - Ordinais: Esses dados mantêm uma relação de ordem.\n",
        "\n",
        "- Quantitativos: Consistem em medidas ou contagens numéricas.\n",
        "  - Discretos: Resultam de um conjunto finito ou enumerável de valores possíveis\n",
        "(Contagens)\n",
        "  - Contínuos: Resultam em um número infinito de valores possíveis (Mensurações)\n",
        "\n",
        "## Medidas de tendência central\n",
        "As medidas de **tendência central** mostram o valor representativo em torno do qual os dados tendem a agrupar-se, dão o ponto central em torno do qual os dados se distribuem.\n",
        "​\n",
        "- **Média**: A média de uma amostra é denotada por x barra e a média de uma população é denotada por µ. Para calcular a média de um conjunto de valores é necessário somar todos os valores obtidos e dividir por n (que representa o tamanho da amostra).\n",
        "​\n",
        "- **Mediana**: É o valor que divide o conjunto de dados ao meio, deixando os 50% menores valores de um lado e os 50% maiores valores do outro lado. Para calcular a mediana é necessário que o conjunto de dados esteja organizado em ordem crescente. Se n é ímpar, a mediana é dada pelo valor que ocupa a posição central. Se n é par, a mediana será a média dos valores que ocupam as posições centrais.\n",
        "​\n",
        "- **Moda**: Dado um conjunto de valores, a Moda desses valores será aquele que se repetir o maior número de vezes."
      ]
    },
    {
      "cell_type": "markdown",
      "metadata": {
        "id": "LvHHqkRle3SN"
      },
      "source": [
        "## Medidas de dispersão/variabilidade\n",
        "As medidas de **dispersão** mostram o grau de afastamento dos valores observados em relação ao ponto central da distribuição dos dados.\n",
        "\n",
        "- **Amplitude:** É definida como sendo a diferença entre o maior e o menor valor do conjunto de dados.\n",
        "\n",
        "- **Variância e desvio padrão:** A variância e o desvio padrão medem a variação do conjunto de dados em torno da média. \n",
        "É possível perceber que a unidade de medida da variância equivale à unidade de medida dos dados ao quadrado. Dessa\n",
        "maneira, é mais comum trabalharmos com a raiz quadrada da variância, ou seja, com o desvio padrão.\n",
        "\n",
        "![](https://calculareconverter.com.br/wp-content/uploads/2018/08/formula-variancia.jpg)"
      ]
    },
    {
      "cell_type": "markdown",
      "metadata": {
        "id": "23yIh_rYe7AO"
      },
      "source": [
        "## Medidas de posição relativa\n",
        "As medidas de **posição** relativa mostram pontos de corte na distribuição relativa dos dados da amostra.\n",
        "\n",
        "- **Quartis:** Assim como a mediana divide os dados em duas partes iguais, os três quartis, denotados por Q1, Q2 e Q3, dividem as observações ordenadas (dispostas em ordem crescente) em quatro partes aproximadamente iguais, ou seja, há cerca de 25% dos dados em cada grupo. \n",
        "\n",
        "- **Decis:** Analogamente, há nove decis, denotados por D1, D2, D3, ..., D9, que dividem os dados em 10 grupos com cerca de 10% dos dados em cada grupo.\n",
        "\n",
        "- **Percentis:** Há, finalmente, 99 percentis, que dividem os dados em 100 grupos com cerca de 1% dos dados em cada grupo.\n",
        "\n",
        "![](https://sondagenseestudosdeopiniao.files.wordpress.com/2011/10/est-descr-_quadro41.jpg?w=863)"
      ]
    },
    {
      "cell_type": "markdown",
      "metadata": {
        "id": "6wJRCzRKe-f2"
      },
      "source": [
        "## EXERCÍCIOS:\n",
        "\n",
        "### Desafio 1: \n",
        "Uma professora está interessada em avaliar o tempo (em minutos) que os alunos demoram entre o início e a finalização de uma prova. Para isso, observou 12 alunos escolhidos aleatoriamente no sistema. Os dados encontram-se abaixo:\n",
        "\n",
        "- Tempo em minutos: 71, 73, 73, 74, 74, 75, 76, 77, 77, 79, 81, 83\n",
        "\n",
        "**Calcule a média, a mediana e a moda**"
      ]
    },
    {
      "cell_type": "code",
      "metadata": {
        "id": "jhIDZZ0rf9QB"
      },
      "source": [
        "import numpy as np\n",
        "from scipy import stats"
      ],
      "execution_count": 13,
      "outputs": []
    },
    {
      "cell_type": "code",
      "metadata": {
        "id": "nEwbGCQCgJaN"
      },
      "source": [
        "time = np.array([71, 73, 73, 74, 75, 76, 77, 79, 81, 89])"
      ],
      "execution_count": 14,
      "outputs": []
    },
    {
      "cell_type": "code",
      "metadata": {
        "colab": {
          "base_uri": "https://localhost:8080/"
        },
        "id": "aos26-ASgO_F",
        "outputId": "7839d1c9-166f-4f93-a7e4-907fc244271a"
      },
      "source": [
        "np.mean(time)"
      ],
      "execution_count": 15,
      "outputs": [
        {
          "output_type": "execute_result",
          "data": {
            "text/plain": [
              "76.8"
            ]
          },
          "metadata": {
            "tags": []
          },
          "execution_count": 15
        }
      ]
    },
    {
      "cell_type": "code",
      "metadata": {
        "colab": {
          "base_uri": "https://localhost:8080/"
        },
        "id": "45O97vZ8kIVV",
        "outputId": "83ef7b99-2991-4f31-876c-76459a791145"
      },
      "source": [
        "%timeit np.mean(time)"
      ],
      "execution_count": 16,
      "outputs": [
        {
          "output_type": "stream",
          "text": [
            "The slowest run took 11.04 times longer than the fastest. This could mean that an intermediate result is being cached.\n",
            "100000 loops, best of 5: 7.64 µs per loop\n"
          ],
          "name": "stdout"
        }
      ]
    },
    {
      "cell_type": "code",
      "metadata": {
        "colab": {
          "base_uri": "https://localhost:8080/"
        },
        "id": "Wfnj6da2gSJ1",
        "outputId": "43e3c9be-e3fe-4627-9c9b-496c6efa35ee"
      },
      "source": [
        "np.median(time) "
      ],
      "execution_count": 17,
      "outputs": [
        {
          "output_type": "execute_result",
          "data": {
            "text/plain": [
              "75.5"
            ]
          },
          "metadata": {
            "tags": []
          },
          "execution_count": 17
        }
      ]
    },
    {
      "cell_type": "code",
      "metadata": {
        "colab": {
          "base_uri": "https://localhost:8080/"
        },
        "id": "oAzkt87AgUOV",
        "outputId": "e85879d5-ce8a-45ca-8f76-a78122c4dae2"
      },
      "source": [
        "stats.mode(time)"
      ],
      "execution_count": 18,
      "outputs": [
        {
          "output_type": "execute_result",
          "data": {
            "text/plain": [
              "ModeResult(mode=array([73]), count=array([2]))"
            ]
          },
          "metadata": {
            "tags": []
          },
          "execution_count": 18
        }
      ]
    },
    {
      "cell_type": "markdown",
      "metadata": {
        "id": "xCtlRmaHiAid"
      },
      "source": [
        "### Desafio:\n",
        "Considere uma amostra de tempo em minutos que alunos gastam para chegar à uma escola:\n",
        "\n",
        "Amostra: 5, 12, 25, 43, 67\n",
        "\n",
        "Calcule:\n",
        "- A média\n",
        "- A variância\n",
        "- O desvio padrão"
      ]
    },
    {
      "cell_type": "code",
      "metadata": {
        "id": "r4ugMJQNih8U"
      },
      "source": [
        "tempo = np.array([5, 12, 25, 43, 67])"
      ],
      "execution_count": 19,
      "outputs": []
    },
    {
      "cell_type": "code",
      "metadata": {
        "colab": {
          "base_uri": "https://localhost:8080/"
        },
        "id": "XFPANrZnnFRv",
        "outputId": "5bc19076-a6b8-4082-b48e-9dd9652cebd9"
      },
      "source": [
        "#Média (sem ajuda do Numpy)\n",
        "(5 + 12 + 25 + 43 + 67)/ len(tempo)"
      ],
      "execution_count": 20,
      "outputs": [
        {
          "output_type": "execute_result",
          "data": {
            "text/plain": [
              "30.4"
            ]
          },
          "metadata": {
            "tags": []
          },
          "execution_count": 20
        }
      ]
    },
    {
      "cell_type": "code",
      "metadata": {
        "colab": {
          "base_uri": "https://localhost:8080/"
        },
        "id": "_Lh9kUOqnQPr",
        "outputId": "40846f89-d433-4a36-ddc1-471e83ed9902"
      },
      "source": [
        "#Variância (sem ajuda do Numpy)\n",
        "media = np.mean(tempo)\n",
        "soma = (5 - media) ** 2 + (12 - media) ** 2 + (25 - media) ** 2 + (43 - media) ** 2 + (67 - media) ** 2\n",
        "var = soma / (len(tempo) - 1)\n",
        "var"
      ],
      "execution_count": 21,
      "outputs": [
        {
          "output_type": "execute_result",
          "data": {
            "text/plain": [
              "627.8"
            ]
          },
          "metadata": {
            "tags": []
          },
          "execution_count": 21
        }
      ]
    },
    {
      "cell_type": "code",
      "metadata": {
        "colab": {
          "base_uri": "https://localhost:8080/"
        },
        "id": "Stxtp6Sjnut_",
        "outputId": "bd3d460d-bdda-46e4-8537-018e2e4ae4ce"
      },
      "source": [
        "#Desvio padrão (sem ajuda do Numpy)\n",
        "var ** (1/2)"
      ],
      "execution_count": 22,
      "outputs": [
        {
          "output_type": "execute_result",
          "data": {
            "text/plain": [
              "25.055937420100648"
            ]
          },
          "metadata": {
            "tags": []
          },
          "execution_count": 22
        }
      ]
    },
    {
      "cell_type": "code",
      "metadata": {
        "colab": {
          "base_uri": "https://localhost:8080/"
        },
        "id": "qf2ktsWPm-eT",
        "outputId": "8a5be1ee-c1ac-4703-c686-fe987d753262"
      },
      "source": [
        "#Média com Numpy\n",
        "np.mean(tempo)"
      ],
      "execution_count": 23,
      "outputs": [
        {
          "output_type": "execute_result",
          "data": {
            "text/plain": [
              "30.4"
            ]
          },
          "metadata": {
            "tags": []
          },
          "execution_count": 23
        }
      ]
    },
    {
      "cell_type": "code",
      "metadata": {
        "colab": {
          "base_uri": "https://localhost:8080/"
        },
        "id": "6XrhNF0In_gw",
        "outputId": "d7c1b680-24fb-41b2-f1ad-7818d350239b"
      },
      "source": [
        "#Variância com Numpy\n",
        "np.var(tempo, ddof=1)"
      ],
      "execution_count": 24,
      "outputs": [
        {
          "output_type": "execute_result",
          "data": {
            "text/plain": [
              "627.8"
            ]
          },
          "metadata": {
            "tags": []
          },
          "execution_count": 24
        }
      ]
    },
    {
      "cell_type": "code",
      "metadata": {
        "colab": {
          "base_uri": "https://localhost:8080/"
        },
        "id": "orM9bPMooDt2",
        "outputId": "60c5c917-6f38-43d6-823a-52aec1e8e409"
      },
      "source": [
        "#Desvio padrão com Numpy\n",
        "np.std(tempo, ddof=1)"
      ],
      "execution_count": 25,
      "outputs": [
        {
          "output_type": "execute_result",
          "data": {
            "text/plain": [
              "25.055937420100648"
            ]
          },
          "metadata": {
            "tags": []
          },
          "execution_count": 25
        }
      ]
    },
    {
      "cell_type": "markdown",
      "metadata": {
        "id": "3zks7cpEoljm"
      },
      "source": [
        "## Box plot\n",
        "O Boxplot é um gráfico para representar dados quantitativos sendo conveniente\n",
        "para revelar medidas de tendência central, dispersão, distribuição dos dados e a\n",
        "presença de outliers (valores discrepantes). A construção de um diagrama em caixa\n",
        "exige que tenhamos o valor mínimo, o primeiro quartil (Q1), a mediana (ou segundo\n",
        "quartil Q2), o terceiro quartil (Q3), o valor máximo e a distância interquartílica (DIQ).\n",
        "\n",
        "- A distância interquartílica (DIQ) é obtida pela distância entre o terceiro e o primeiro quartil: **DIQ = Q3 - Q1.**\n",
        "\n",
        "Para identificar a presença de valores discrepantes na amostra deve-se, primeiramente, calcular as seguintes medidas: \n",
        "- **Q1 – 1,5xDIQ e Q3 + 1,5xDIQ.** Elas representam os limites para detecção de outliers."
      ]
    },
    {
      "cell_type": "code",
      "metadata": {
        "id": "njQ8mY0TokuI"
      },
      "source": [
        "data = np.array([18, 19, 21, 21, 21, 22, 22, 22, 23, 23, 24, 32])"
      ],
      "execution_count": 26,
      "outputs": []
    },
    {
      "cell_type": "code",
      "metadata": {
        "id": "Y7s6w3sHoxKO"
      },
      "source": [
        "import matplotlib.pyplot as plt"
      ],
      "execution_count": 27,
      "outputs": []
    },
    {
      "cell_type": "code",
      "metadata": {
        "colab": {
          "base_uri": "https://localhost:8080/",
          "height": 401
        },
        "id": "QS6osBiloyys",
        "outputId": "ff6c5629-4e75-44a6-8b41-b124504baeb3"
      },
      "source": [
        "plt.boxplot(data)"
      ],
      "execution_count": 28,
      "outputs": [
        {
          "output_type": "execute_result",
          "data": {
            "text/plain": [
              "{'boxes': [<matplotlib.lines.Line2D at 0x7fd9e2c79190>],\n",
              " 'caps': [<matplotlib.lines.Line2D at 0x7fd9e2c85290>,\n",
              "  <matplotlib.lines.Line2D at 0x7fd9e2c857d0>],\n",
              " 'fliers': [<matplotlib.lines.Line2D at 0x7fd9e2c791d0>],\n",
              " 'means': [],\n",
              " 'medians': [<matplotlib.lines.Line2D at 0x7fd9e2c85d50>],\n",
              " 'whiskers': [<matplotlib.lines.Line2D at 0x7fd9e2c797d0>,\n",
              "  <matplotlib.lines.Line2D at 0x7fd9e2c79d10>]}"
            ]
          },
          "metadata": {
            "tags": []
          },
          "execution_count": 28
        },
        {
          "output_type": "display_data",
          "data": {
            "image/png": "[encoded data removed]",
            "text/plain": [
              "<Figure size 432x288 with 1 Axes>"
            ]
          },
          "metadata": {
            "tags": [],
            "needs_background": "light"
          }
        }
      ]
    }
  ]
}