{
  "nbformat": 4,
  "nbformat_minor": 0,
  "metadata": {
    "colab": {
      "name": "Aula 3 - shePY.ipynb",
      "provenance": [],
      "authorship_tag": "ABX9TyPSzt8mKyZSIvX1WjEoT86U",
      "include_colab_link": true
    },
    "kernelspec": {
      "name": "python3",
      "display_name": "Python 3"
    },
    "language_info": {
      "name": "python"
    }
  },
  "cells": [
    {
      "cell_type": "markdown",
      "metadata": {
        "id": "view-in-github",
        "colab_type": "text"
      },
      "source": [
        "<a href=\"https://colab.research.google.com/github/mariacmartins/shepy/blob/main/Aula_3_shePY.ipynb\" target=\"_parent\"><img src=\"https://colab.research.google.com/assets/colab-badge.svg\" alt=\"Open In Colab\"/></a>"
      ]
    },
    {
      "cell_type": "markdown",
      "metadata": {
        "id": "-b7Sw-1ucKeU"
      },
      "source": [
        "# Aula 3 - shePY\n",
        "\n",
        "## Estruturas condicionais:\n",
        "Quando programamos, muitas vezes precisamos que determinado bloco de código seja executado apenas se uma determinada condição for verdadeira. Nesse caso, devemos fazer uso de uma estrutura de condição.\n",
        "\n",
        "### **if:** \n",
        "if (que significa se em português) é uma estrutura de condição que permite avaliar uma expressão e, de acordo com seu resultado, executar uma determinada ação.\n",
        "```python\n",
        "if condição_do_if:\n",
        "    # bloco executado se a condição for verdadeira\n",
        "    comandos\n",
        " ```\n",
        "\n",
        "### **else:**\n",
        "Caso a condição avaliada com o if não seja atendida, definimos um fluxo alternativo que o código deve seguir. \n",
        "```python\n",
        "if condição_do_if:\n",
        "    # bloco executado se a condição for verdadeira\n",
        "    comandos\n",
        "else:\n",
        "    # bloco executado se a condição do if for falsa\n",
        "    comandos\n",
        "```\n",
        "\n",
        "### **elif:**\n",
        "O elif é uma contração do else if que torna mais claro o tratamento das várias alternativas, encadeando condições.\n",
        "```python\n",
        "if condição_do_if:\n",
        "    # bloco executado se a condição for verdadeira\n",
        "    comandos\n",
        "\n",
        "elif:\n",
        "    # bloco executado caso haja um caminho alternativo à condição do bloco if\n",
        "    comandos\n",
        "\n",
        "else:\n",
        "    # bloco executado se a condição do if for falsa\n",
        "    comandos\n",
        "```"
      ]
    },
    {
      "cell_type": "code",
      "metadata": {
        "colab": {
          "base_uri": "https://localhost:8080/"
        },
        "id": "L8Ux2Y67Z4QR",
        "outputId": "904611b8-67bc-40a9-ea02-c1ede7249d2e"
      },
      "source": [
        "nota = int(input(\"Digite uma nota: \"))\n",
        "\n",
        "if nota >= 8:\n",
        "  print('Aprovada satisfatoriamente!')\n",
        "\n",
        "print('Fim.')"
      ],
      "execution_count": 1,
      "outputs": [
        {
          "output_type": "stream",
          "text": [
            "Digite uma nota: 9\n",
            "Aprovada satisfatoriamente!\n",
            "Fim.\n"
          ],
          "name": "stdout"
        }
      ]
    },
    {
      "cell_type": "code",
      "metadata": {
        "colab": {
          "base_uri": "https://localhost:8080/"
        },
        "id": "9pJ_2zbO6CY6",
        "outputId": "87c37a05-f486-4a8e-9b8b-2230b88a062c"
      },
      "source": [
        "nota = int(input(\"Digite uma nota: \"))\n",
        "\n",
        "if nota >= 8:\n",
        "  print('Aprovada satisfatoriamente!')\n",
        "\n",
        "else:\n",
        "  print('Não aprovada satisfatoriamente')\n",
        "\n",
        "print('Fim.')"
      ],
      "execution_count": 2,
      "outputs": [
        {
          "output_type": "stream",
          "text": [
            "Digite uma nota: 5\n",
            "Não aprovada satisfatoriamente\n",
            "Fim.\n"
          ],
          "name": "stdout"
        }
      ]
    },
    {
      "cell_type": "code",
      "metadata": {
        "colab": {
          "base_uri": "https://localhost:8080/"
        },
        "id": "YqPJGHjj6Qo0",
        "outputId": "ec567342-2de3-434f-c32d-147ab330343f"
      },
      "source": [
        "nota = int(input(\"Digite uma nota: \"))\n",
        "\n",
        "if nota >= 8:\n",
        "  print('Aprovada satisfatoriamente!')\n",
        "\n",
        "elif nota == 7:\n",
        "  print('Aprovada.')\n",
        "\n",
        "else:\n",
        "  print('Não aprovada.')\n",
        "\n",
        "print('Fim.')"
      ],
      "execution_count": 3,
      "outputs": [
        {
          "output_type": "stream",
          "text": [
            "Digite uma nota: 7\n",
            "Aprovada.\n",
            "Fim.\n"
          ],
          "name": "stdout"
        }
      ]
    },
    {
      "cell_type": "markdown",
      "metadata": {
        "id": "MX_-rGPw7KEv"
      },
      "source": [
        "**JOGO DE ADIVINHAR:** \n",
        "Escreva um programa que faça o computador \"pensar\" em um número inteiro entre 0 e 10 e peça para o usuário tentar descobrir qual foi o número escolhido pelo computador. O programa deverá escrever na tela se o usuário venceu ou perdeu.\n"
      ]
    },
    {
      "cell_type": "code",
      "metadata": {
        "colab": {
          "base_uri": "https://localhost:8080/"
        },
        "id": "WR0oMhLP7JFF",
        "outputId": "0682c3f2-aded-4216-c4bb-c3565a7419be"
      },
      "source": [
        "from random import randint\n",
        "\n",
        "computador = randint(0, 10)\n",
        "print('Vamos jogar um jogo! Tente adivinhar o número que estou pensando: de 0 a 10...')\n",
        "jogador = int(input('Qual número eu pensei? '))\n",
        "\n",
        "if jogador == computador:\n",
        "  print('Acertou. Você VENCEU o jogo!')\n",
        "\n",
        "else:\n",
        "  print('Errou. Você perdeu!')"
      ],
      "execution_count": 4,
      "outputs": [
        {
          "output_type": "stream",
          "text": [
            "Vamos jogar um jogo! Tente adivinhar o número que estou pensando: de 0 a 10...\n",
            "Qual número eu pensei? 6\n",
            "Errou. Você perdeu!\n"
          ],
          "name": "stdout"
        }
      ]
    },
    {
      "cell_type": "markdown",
      "metadata": {
        "id": "9IXp-bwiCfD3"
      },
      "source": [
        "### DESAFIO para as alunas: \n",
        "Desenvolva um programa que pergunte a distância de uma viagem em Km. Calcule o preço da passagem, cobrando 0.60 reais por Km para viagens de até 100Km, cobrando 0.50 reais para viagens de até 300Km  e 0.40 reais para viagens mais longas.\n"
      ]
    },
    {
      "cell_type": "code",
      "metadata": {
        "colab": {
          "base_uri": "https://localhost:8080/"
        },
        "id": "he8F7sJgAHS1",
        "outputId": "f35707e4-9c74-418b-dbf1-9ed70ea4e9a3"
      },
      "source": [
        "km = float(input('Quantos km tem sua viagem? '))\n",
        "\n",
        "if km <= 100:\n",
        "  passagem = km * 0.60\n",
        "\n",
        "elif km <= 300:\n",
        "  passagem = km * 0.50\n",
        "\n",
        "else:\n",
        "  passagem = km * 40\n",
        "\n",
        "print('Valor da passagem {}'.format(passagem))"
      ],
      "execution_count": 5,
      "outputs": [
        {
          "output_type": "stream",
          "text": [
            "Quantos km tem sua viagem? 15\n",
            "Valor da passagem 9.0\n"
          ],
          "name": "stdout"
        }
      ]
    },
    {
      "cell_type": "code",
      "metadata": {
        "colab": {
          "base_uri": "https://localhost:8080/"
        },
        "id": "hjW3tynSGrXu",
        "outputId": "0c8a2a92-4169-4303-d010-4822101b5424"
      },
      "source": [
        "km = float(input('Quantos km tem sua viagem? '))\n",
        "\n",
        "if km <= 100:\n",
        "  passagem = km * 0.60\n",
        "\n",
        "elif km > 100 and km <= 300:\n",
        "  passagem = km * 0.50\n",
        "\n",
        "else:\n",
        "  passagem = km * 40\n",
        "\n",
        "print('Valor da passagem {}'.format(passagem))"
      ],
      "execution_count": 6,
      "outputs": [
        {
          "output_type": "stream",
          "text": [
            "Quantos km tem sua viagem? 15\n",
            "Valor da passagem 9.0\n"
          ],
          "name": "stdout"
        }
      ]
    },
    {
      "cell_type": "markdown",
      "metadata": {
        "id": "djL06ACUNn2I"
      },
      "source": [
        "**CRIANDO O JOGO** Pedra, Papel, Tesoura"
      ]
    },
    {
      "cell_type": "code",
      "metadata": {
        "colab": {
          "base_uri": "https://localhost:8080/"
        },
        "id": "VZV3gxjJN2LJ",
        "outputId": "64641e43-db70-4908-8b58-915a2ee11d15"
      },
      "source": [
        "from random import choice\n",
        "\n",
        "jogador = str(input('Escolha entre Pedra, Papel ou Tesoura: ')).capitalize()\n",
        "\n",
        "lista = ['Pedra', 'Papel', 'Tesoura']\n",
        "computador = choice(lista)\n",
        "\n",
        "print('Você jogou {}'.format(jogador))\n",
        "print('O computador jogou {}'.format(computador))\n",
        "\n",
        "if computador == 'Pedra':\n",
        "  if jogador == 'Pedra':\n",
        "    print('Empate!')\n",
        "  elif jogador == 'Papel':\n",
        "    print('Você venceu, parabéns!')\n",
        "  elif jogador == 'Tesoura':\n",
        "    print('A máquina venceu!')\n",
        "\n",
        "if computador == 'Papel':\n",
        "  if jogador == 'Pedra':\n",
        "    print('A máquina venceu!')\n",
        "  elif jogador == 'Papel':\n",
        "    print('Empate!')\n",
        "  elif jogador == 'Tesoura':\n",
        "    print('Você venceu, parabéns!')\n",
        "\n",
        "\n",
        "if computador == 'Tesoura':\n",
        "  if jogador == 'Pedra':\n",
        "    print('Você venceu, parabéns!')\n",
        "  elif jogador == 'Papel':\n",
        "    print('A máquina venceu!')\n",
        "  elif jogador == 'Tesoura':\n",
        "    print('Empate!')\n",
        "\n",
        "else:\n",
        "  print('Jogada inválida.')"
      ],
      "execution_count": 7,
      "outputs": [
        {
          "output_type": "stream",
          "text": [
            "Escolha entre Pedra, Papel ou Tesoura: Papel\n",
            "Você jogou Papel\n",
            "O computador jogou Papel\n",
            "Empate!\n",
            "Jogada inválida.\n"
          ],
          "name": "stdout"
        }
      ]
    },
    {
      "cell_type": "markdown",
      "metadata": {
        "id": "GU_eAlmlYzJc"
      },
      "source": [
        "## Estruturas de repetição:\n",
        "\n",
        "### **while:** \n",
        "\n",
        "O while é o comando utilizado para programar repetições no Python baseadas na avaliação de uma condição. Enquanto a condição for verdadeira, o bloco de comandos interno ao while é repetido. Quando a condição se torna falsa, o bloco de comandos deixa de repetir.\n",
        "\n",
        "```python\n",
        "while condição:\n",
        "    bloco de comandos\n",
        "```"
      ]
    },
    {
      "cell_type": "code",
      "metadata": {
        "colab": {
          "base_uri": "https://localhost:8080/"
        },
        "id": "z56GdYuSZcHv",
        "outputId": "cc876e3e-c586-42a7-e1ad-4bb8fe6e341b"
      },
      "source": [
        "lista_pessoas = []\n",
        "\n",
        "nome = str(input('Digite um nome: '))\n",
        "\n",
        "while nome != 'fim':\n",
        "    lista_pessoas.append(nome)\n",
        "    nome = input(\"Digite um nome: \")\n",
        "    \n",
        "print('Nomes digitados: ')\n",
        "print(lista_pessoas)"
      ],
      "execution_count": 8,
      "outputs": [
        {
          "output_type": "stream",
          "text": [
            "Digite um nome: Maria\n",
            "Digite um nome: Clara\n",
            "Digite um nome: fim\n",
            "Nomes digitados: \n",
            "['Maria', 'Clara']\n"
          ],
          "name": "stdout"
        }
      ]
    },
    {
      "cell_type": "code",
      "metadata": {
        "colab": {
          "base_uri": "https://localhost:8080/"
        },
        "id": "TQCzG2SZaeFE",
        "outputId": "876e9526-3981-4423-f5b7-911489a1c0db"
      },
      "source": [
        "lista_pessoas = []\n",
        "cont = 0\n",
        "\n",
        "nome = str(input('Digite um nome: '))\n",
        "\n",
        "while cont < 5:\n",
        "    lista_pessoas.append(nome)\n",
        "    nome = input(\"Digite um nome: \")\n",
        "    cont = cont + 1\n",
        "    \n",
        "print('Nomes digitados: ')\n",
        "print(lista_pessoas)"
      ],
      "execution_count": 9,
      "outputs": [
        {
          "output_type": "stream",
          "text": [
            "Digite um nome: Maria\n",
            "Digite um nome: Clara\n",
            "Digite um nome: Taís\n",
            "Digite um nome: Audrey\n",
            "Digite um nome: Vanessa\n",
            "Digite um nome: Fernanda\n",
            "Nomes digitados: \n",
            "['Maria', 'Clara', 'Taís', 'Audrey', 'Vanessa']\n"
          ],
          "name": "stdout"
        }
      ]
    },
    {
      "cell_type": "markdown",
      "metadata": {
        "id": "-XUNDbgXblVD"
      },
      "source": [
        "### **for:**\n",
        "\n",
        "O laço for nos permite percorrer os itens de uma coleção e, para cada um deles, executar o bloco de código declarado no loop."
      ]
    },
    {
      "cell_type": "code",
      "metadata": {
        "colab": {
          "base_uri": "https://localhost:8080/"
        },
        "id": "pvvwd0yPcYQ6",
        "outputId": "a8d6c8f6-0c97-4df2-c1ec-959e510536d4"
      },
      "source": [
        "lista = [1, 19, 2, 15, 21, 12, 2]\n",
        "for num in lista:\n",
        "    print(num)"
      ],
      "execution_count": 10,
      "outputs": [
        {
          "output_type": "stream",
          "text": [
            "1\n",
            "19\n",
            "2\n",
            "15\n",
            "21\n",
            "12\n",
            "2\n"
          ],
          "name": "stdout"
        }
      ]
    },
    {
      "cell_type": "code",
      "metadata": {
        "colab": {
          "base_uri": "https://localhost:8080/"
        },
        "id": "bGs2ucaociXh",
        "outputId": "66a2d829-9b6e-4119-a841-a6ced2462645"
      },
      "source": [
        "for num in lista:\n",
        "    if num % 2 == 0:\n",
        "        print (\"{} é par.\".format(num))\n",
        "    else:\n",
        "        print(\"{} é ímpar.\".format(num))"
      ],
      "execution_count": 11,
      "outputs": [
        {
          "output_type": "stream",
          "text": [
            "1 é ímpar.\n",
            "19 é ímpar.\n",
            "2 é par.\n",
            "15 é ímpar.\n",
            "21 é ímpar.\n",
            "12 é par.\n",
            "2 é par.\n"
          ],
          "name": "stdout"
        }
      ]
    },
    {
      "cell_type": "code",
      "metadata": {
        "colab": {
          "base_uri": "https://localhost:8080/"
        },
        "id": "7_3RNqgldIsg",
        "outputId": "835339bf-819f-4d5f-f410-d7d16047d3ad"
      },
      "source": [
        "num = int(input(\"Digite o número que deseja imprimir a taboada: \"))\n",
        "\n",
        "for mult in range(1,11):\n",
        "    print(\"{} x {} = {}\".format(num, mult, num*mult))"
      ],
      "execution_count": 12,
      "outputs": [
        {
          "output_type": "stream",
          "text": [
            "Digite o número que deseja imprimir a taboada: 2\n",
            "2 x 1 = 2\n",
            "2 x 2 = 4\n",
            "2 x 3 = 6\n",
            "2 x 4 = 8\n",
            "2 x 5 = 10\n",
            "2 x 6 = 12\n",
            "2 x 7 = 14\n",
            "2 x 8 = 16\n",
            "2 x 9 = 18\n",
            "2 x 10 = 20\n"
          ],
          "name": "stdout"
        }
      ]
    },
    {
      "cell_type": "markdown",
      "metadata": {
        "id": "RSZgvNuEecXE"
      },
      "source": [
        "## Funções:\n",
        "Funções são trechos de código que podem ser executados em momentos diferentes de nossos códigos em Python. \n",
        "\n",
        "```python\n",
        "def nome_da_função():\n",
        "  comandos da função\n",
        "```\n",
        "\n",
        "- Que comandos a gente faz constantemente?\n",
        "print(), len(), input(), etc..."
      ]
    },
    {
      "cell_type": "code",
      "metadata": {
        "id": "Ef7bcXpTfWwS"
      },
      "source": [
        "def soma(a, b):\n",
        "  s = a + b\n",
        "  print(s)"
      ],
      "execution_count": 13,
      "outputs": []
    },
    {
      "cell_type": "code",
      "metadata": {
        "colab": {
          "base_uri": "https://localhost:8080/"
        },
        "id": "iZK3Hnt8gerf",
        "outputId": "11bd62a0-d766-42ba-f0a0-8900b8053fd5"
      },
      "source": [
        "soma(2, 2)\n",
        "soma(10, 5)"
      ],
      "execution_count": 14,
      "outputs": [
        {
          "output_type": "stream",
          "text": [
            "4\n",
            "15\n"
          ],
          "name": "stdout"
        }
      ]
    },
    {
      "cell_type": "code",
      "metadata": {
        "colab": {
          "base_uri": "https://localhost:8080/"
        },
        "id": "3Gb1438dgvLL",
        "outputId": "add937ba-5e08-4b2e-b7f6-b45056da2c70"
      },
      "source": [
        "soma(a=2, b=7)"
      ],
      "execution_count": 15,
      "outputs": [
        {
          "output_type": "stream",
          "text": [
            "9\n"
          ],
          "name": "stdout"
        }
      ]
    },
    {
      "cell_type": "markdown",
      "metadata": {
        "id": "9wFL40FchDc8"
      },
      "source": [
        "### DESAFIO: \n",
        "Faça um programa que tenha uma função chamada area(), que receba as dimensões de um terreno retangular (largura e comprimento) e mostre a área do terreno seguindo o exemplo:\n",
        "- 'A largura selecionada é de 5m e o comprimento é de 5m, sendo a área: 25m²'\n",
        "\n",
        "Após, teste sua função."
      ]
    },
    {
      "cell_type": "code",
      "metadata": {
        "id": "u5tVHybchK2w"
      },
      "source": [
        "def area(largura, comprimento):\n",
        "  area = largura * comprimento\n",
        "  print('A largura selecionada é de {}m e o comprimento é de {}m, sendo a área: {}m²'.format(largura, comprimento, area))"
      ],
      "execution_count": 16,
      "outputs": []
    },
    {
      "cell_type": "code",
      "metadata": {
        "colab": {
          "base_uri": "https://localhost:8080/"
        },
        "id": "k0VRgl5Ehirq",
        "outputId": "0718c004-cc86-431e-9fef-f4c2ccc897f5"
      },
      "source": [
        "area(5, 5)"
      ],
      "execution_count": 17,
      "outputs": [
        {
          "output_type": "stream",
          "text": [
            "A largura selecionada é de 5m e o comprimento é de 5m, sendo a área: 25m²\n"
          ],
          "name": "stdout"
        }
      ]
    },
    {
      "cell_type": "code",
      "metadata": {
        "id": "-Z4YuvSclKQ5",
        "colab": {
          "base_uri": "https://localhost:8080/"
        },
        "outputId": "beb6e748-7178-4966-880e-8731cd9ab28d"
      },
      "source": [
        "area(6, 7)"
      ],
      "execution_count": 18,
      "outputs": [
        {
          "output_type": "stream",
          "text": [
            "A largura selecionada é de 6m e o comprimento é de 7m, sendo a área: 42m²\n"
          ],
          "name": "stdout"
        }
      ]
    }
  ]
}