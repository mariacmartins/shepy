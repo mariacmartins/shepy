{
  "nbformat": 4,
  "nbformat_minor": 0,
  "metadata": {
    "colab": {
      "name": "Aula 7 - Regressão Linear - shePY",
      "provenance": [],
      "include_colab_link": true
    },
    "kernelspec": {
      "name": "python3",
      "display_name": "Python 3"
    },
    "language_info": {
      "name": "python"
    }
  },
  "cells": [
    {
      "cell_type": "markdown",
      "metadata": {
        "id": "view-in-github",
        "colab_type": "text"
      },
      "source": [
        "<a href=\"https://colab.research.google.com/github/mariacmartins/shepy/blob/main/Aula_7_Regress%C3%A3o_Linear_shePY.ipynb\" target=\"_parent\"><img src=\"https://colab.research.google.com/assets/colab-badge.svg\" alt=\"Open In Colab\"/></a>"
      ]
    },
    {
      "cell_type": "markdown",
      "metadata": {
        "id": "MvARQjpuedx1"
      },
      "source": [
        "# Regressão Linear\n",
        "### Aula ministrada por Frederico Kremer\n",
        "\n",
        "O resultado de uma regressão linear é uma equação de reta que minimiza alguma função de erro, como a **soma do erro quadrático** (*sum of squared error*, SSE) e a **raiz quadrática média** (*root mean square error*, RMSE).\n",
        "\n",
        "$y = b + a * x$\n",
        "\n",
        "A **soma do erro quadrático** é definido pela seguinte equação:\n",
        "\n",
        "$SSE = \\Sigma_{i=1}^{n}{\\Big(y^{pred}_i - y_i\\Big)^2}$\n",
        "\n",
        "\n",
        "A **raiz quadrática média do erro** é calculada com a seguinte equação:\n",
        "\n",
        "$RMSE = \\sqrt{\\frac{\\Sigma_{i=1}^{n}{\\Big(y^{pred}_i - y_i\\Big)^2}}{n}}$\n",
        "\n",
        "A identificação dos melhores valores de $b$ e $a$ é um problema de otimização clássico, e diferentes estratégias podem ser utilizadas para isso. Uma abordagem simples para este problema é a de **mínimos quadrados ordinários** (*ordinary least squares*), muito utilizada em estatística clássica. Este método exige que exista uma distribuição normal nos dados e ausência de co-linearidade. O ajuste dos parâmetros é feito com base na **derivada parcial do erro** de forma **não-iterativa**.\n",
        "\n",
        "![](https://cnx.org/resources/33dd2f2308d09aa6422b056cdf466692a1351722)\n",
        "\n",
        "Outra abordagens é denominada **descida de gradiente** (*gradient descent*), que consiste em um processo **iterativo** de otimização dos valores a partir da **derivada parcial do erro**. \n",
        "\n",
        "![](http://cdn-images-1.medium.com/max/640/1*eeIvlwkMNG1wSmj3FR6M2g.gif)\n",
        "\n",
        "Para entender isso, imagine que nós estamos tentando ajustar $a$ e $b$ gradualmente, com pequenos **passos** (*steps*), onde iremos aumentar ou diminuir estes parâmetros de acordo de forma proporcional ao impacto que estes tem no erro. Desta forma, os ajustes são proporcionais ao erro e ponderados por um valor chamado **taxa de aprendizagem** (*learning rate*), geralmente abreviado pela letra grega $\\alpha$.\n",
        "\n",
        "![](https://miro.medium.com/max/600/1*iNPHcCxIvcm7RwkRaMTx1g.jpeg)\n",
        "\n",
        "Esta abordagem de otimização é também utilizada por outros modelos de aprendizado de máquina, com as **redes neurais**, onde há não-linearidade e co-linearidade.\n",
        "\n",
        "![]()"
      ]
    },
    {
      "cell_type": "markdown",
      "metadata": {
        "id": "l0T1qXKdLv3g"
      },
      "source": [
        "## Exemplo de regressão univariada\n",
        "\n",
        "A forma mais simples de regressão e a univariada, quando há apenas uma **variável explicativa** e uma **variável de desfecho**. No contexto de aprendizado de máquina é comum se utilizar os termos **atributo** (*feature*) e **rótulo** (*labels*) para se referir, respectivamente, às mesmas coisas. "
      ]
    },
    {
      "cell_type": "code",
      "metadata": {
        "id": "UhHOZDgdbi7r"
      },
      "source": [
        "import pandas as pd\n",
        "from sklearn.datasets import load_diabetes\n",
        "from sklearn.linear_model import LinearRegression"
      ],
      "execution_count": null,
      "outputs": []
    },
    {
      "cell_type": "code",
      "metadata": {
        "id": "ZCIcZanwbq4Q"
      },
      "source": [
        "data = load_diabetes()"
      ],
      "execution_count": null,
      "outputs": []
    },
    {
      "cell_type": "code",
      "metadata": {
        "id": "CCq6ZOAtbuXr"
      },
      "source": [
        "df = pd.DataFrame(data['data'], columns=data['feature_names'])\n",
        "df['target'] = data['target']"
      ],
      "execution_count": null,
      "outputs": []
    },
    {
      "cell_type": "code",
      "metadata": {
        "colab": {
          "base_uri": "https://localhost:8080/",
          "height": 378
        },
        "id": "Tq5aU-MlcVNU",
        "outputId": "81db305e-91ae-4461-afa8-d8a9d9efc3e5"
      },
      "source": [
        "df.corr()"
      ],
      "execution_count": null,
      "outputs": [
        {
          "output_type": "execute_result",
          "data": {
            "text/html": [
              "<div>\n",
              "<style scoped>\n",
              "    .dataframe tbody tr th:only-of-type {\n",
              "        vertical-align: middle;\n",
              "    }\n",
              "\n",
              "    .dataframe tbody tr th {\n",
              "        vertical-align: top;\n",
              "    }\n",
              "\n",
              "    .dataframe thead th {\n",
              "        text-align: right;\n",
              "    }\n",
              "</style>\n",
              "<table border=\"1\" class=\"dataframe\">\n",
              "  <thead>\n",
              "    <tr style=\"text-align: right;\">\n",
              "      <th></th>\n",
              "      <th>age</th>\n",
              "      <th>sex</th>\n",
              "      <th>bmi</th>\n",
              "      <th>bp</th>\n",
              "      <th>s1</th>\n",
              "      <th>s2</th>\n",
              "      <th>s3</th>\n",
              "      <th>s4</th>\n",
              "      <th>s5</th>\n",
              "      <th>s6</th>\n",
              "      <th>target</th>\n",
              "    </tr>\n",
              "  </thead>\n",
              "  <tbody>\n",
              "    <tr>\n",
              "      <th>age</th>\n",
              "      <td>1.000000</td>\n",
              "      <td>0.173737</td>\n",
              "      <td>0.185085</td>\n",
              "      <td>0.335427</td>\n",
              "      <td>0.260061</td>\n",
              "      <td>0.219243</td>\n",
              "      <td>-0.075181</td>\n",
              "      <td>0.203841</td>\n",
              "      <td>0.270777</td>\n",
              "      <td>0.301731</td>\n",
              "      <td>0.187889</td>\n",
              "    </tr>\n",
              "    <tr>\n",
              "      <th>sex</th>\n",
              "      <td>0.173737</td>\n",
              "      <td>1.000000</td>\n",
              "      <td>0.088161</td>\n",
              "      <td>0.241013</td>\n",
              "      <td>0.035277</td>\n",
              "      <td>0.142637</td>\n",
              "      <td>-0.379090</td>\n",
              "      <td>0.332115</td>\n",
              "      <td>0.149918</td>\n",
              "      <td>0.208133</td>\n",
              "      <td>0.043062</td>\n",
              "    </tr>\n",
              "    <tr>\n",
              "      <th>bmi</th>\n",
              "      <td>0.185085</td>\n",
              "      <td>0.088161</td>\n",
              "      <td>1.000000</td>\n",
              "      <td>0.395415</td>\n",
              "      <td>0.249777</td>\n",
              "      <td>0.261170</td>\n",
              "      <td>-0.366811</td>\n",
              "      <td>0.413807</td>\n",
              "      <td>0.446159</td>\n",
              "      <td>0.388680</td>\n",
              "      <td>0.586450</td>\n",
              "    </tr>\n",
              "    <tr>\n",
              "      <th>bp</th>\n",
              "      <td>0.335427</td>\n",
              "      <td>0.241013</td>\n",
              "      <td>0.395415</td>\n",
              "      <td>1.000000</td>\n",
              "      <td>0.242470</td>\n",
              "      <td>0.185558</td>\n",
              "      <td>-0.178761</td>\n",
              "      <td>0.257653</td>\n",
              "      <td>0.393478</td>\n",
              "      <td>0.390429</td>\n",
              "      <td>0.441484</td>\n",
              "    </tr>\n",
              "    <tr>\n",
              "      <th>s1</th>\n",
              "      <td>0.260061</td>\n",
              "      <td>0.035277</td>\n",
              "      <td>0.249777</td>\n",
              "      <td>0.242470</td>\n",
              "      <td>1.000000</td>\n",
              "      <td>0.896663</td>\n",
              "      <td>0.051519</td>\n",
              "      <td>0.542207</td>\n",
              "      <td>0.515501</td>\n",
              "      <td>0.325717</td>\n",
              "      <td>0.212022</td>\n",
              "    </tr>\n",
              "    <tr>\n",
              "      <th>s2</th>\n",
              "      <td>0.219243</td>\n",
              "      <td>0.142637</td>\n",
              "      <td>0.261170</td>\n",
              "      <td>0.185558</td>\n",
              "      <td>0.896663</td>\n",
              "      <td>1.000000</td>\n",
              "      <td>-0.196455</td>\n",
              "      <td>0.659817</td>\n",
              "      <td>0.318353</td>\n",
              "      <td>0.290600</td>\n",
              "      <td>0.174054</td>\n",
              "    </tr>\n",
              "    <tr>\n",
              "      <th>s3</th>\n",
              "      <td>-0.075181</td>\n",
              "      <td>-0.379090</td>\n",
              "      <td>-0.366811</td>\n",
              "      <td>-0.178761</td>\n",
              "      <td>0.051519</td>\n",
              "      <td>-0.196455</td>\n",
              "      <td>1.000000</td>\n",
              "      <td>-0.738493</td>\n",
              "      <td>-0.398577</td>\n",
              "      <td>-0.273697</td>\n",
              "      <td>-0.394789</td>\n",
              "    </tr>\n",
              "    <tr>\n",
              "      <th>s4</th>\n",
              "      <td>0.203841</td>\n",
              "      <td>0.332115</td>\n",
              "      <td>0.413807</td>\n",
              "      <td>0.257653</td>\n",
              "      <td>0.542207</td>\n",
              "      <td>0.659817</td>\n",
              "      <td>-0.738493</td>\n",
              "      <td>1.000000</td>\n",
              "      <td>0.617857</td>\n",
              "      <td>0.417212</td>\n",
              "      <td>0.430453</td>\n",
              "    </tr>\n",
              "    <tr>\n",
              "      <th>s5</th>\n",
              "      <td>0.270777</td>\n",
              "      <td>0.149918</td>\n",
              "      <td>0.446159</td>\n",
              "      <td>0.393478</td>\n",
              "      <td>0.515501</td>\n",
              "      <td>0.318353</td>\n",
              "      <td>-0.398577</td>\n",
              "      <td>0.617857</td>\n",
              "      <td>1.000000</td>\n",
              "      <td>0.464670</td>\n",
              "      <td>0.565883</td>\n",
              "    </tr>\n",
              "    <tr>\n",
              "      <th>s6</th>\n",
              "      <td>0.301731</td>\n",
              "      <td>0.208133</td>\n",
              "      <td>0.388680</td>\n",
              "      <td>0.390429</td>\n",
              "      <td>0.325717</td>\n",
              "      <td>0.290600</td>\n",
              "      <td>-0.273697</td>\n",
              "      <td>0.417212</td>\n",
              "      <td>0.464670</td>\n",
              "      <td>1.000000</td>\n",
              "      <td>0.382483</td>\n",
              "    </tr>\n",
              "    <tr>\n",
              "      <th>target</th>\n",
              "      <td>0.187889</td>\n",
              "      <td>0.043062</td>\n",
              "      <td>0.586450</td>\n",
              "      <td>0.441484</td>\n",
              "      <td>0.212022</td>\n",
              "      <td>0.174054</td>\n",
              "      <td>-0.394789</td>\n",
              "      <td>0.430453</td>\n",
              "      <td>0.565883</td>\n",
              "      <td>0.382483</td>\n",
              "      <td>1.000000</td>\n",
              "    </tr>\n",
              "  </tbody>\n",
              "</table>\n",
              "</div>"
            ],
            "text/plain": [
              "             age       sex       bmi  ...        s5        s6    target\n",
              "age     1.000000  0.173737  0.185085  ...  0.270777  0.301731  0.187889\n",
              "sex     0.173737  1.000000  0.088161  ...  0.149918  0.208133  0.043062\n",
              "bmi     0.185085  0.088161  1.000000  ...  0.446159  0.388680  0.586450\n",
              "bp      0.335427  0.241013  0.395415  ...  0.393478  0.390429  0.441484\n",
              "s1      0.260061  0.035277  0.249777  ...  0.515501  0.325717  0.212022\n",
              "s2      0.219243  0.142637  0.261170  ...  0.318353  0.290600  0.174054\n",
              "s3     -0.075181 -0.379090 -0.366811  ... -0.398577 -0.273697 -0.394789\n",
              "s4      0.203841  0.332115  0.413807  ...  0.617857  0.417212  0.430453\n",
              "s5      0.270777  0.149918  0.446159  ...  1.000000  0.464670  0.565883\n",
              "s6      0.301731  0.208133  0.388680  ...  0.464670  1.000000  0.382483\n",
              "target  0.187889  0.043062  0.586450  ...  0.565883  0.382483  1.000000\n",
              "\n",
              "[11 rows x 11 columns]"
            ]
          },
          "metadata": {
            "tags": []
          },
          "execution_count": 71
        }
      ]
    },
    {
      "cell_type": "code",
      "metadata": {
        "id": "5q_WXDqnkBbZ"
      },
      "source": [
        "X = df[['bmi']]\n",
        "y = df['target']"
      ],
      "execution_count": null,
      "outputs": []
    },
    {
      "cell_type": "code",
      "metadata": {
        "id": "G1oEniUFchKl"
      },
      "source": [
        "from matplotlib import pyplot as plt"
      ],
      "execution_count": null,
      "outputs": []
    },
    {
      "cell_type": "code",
      "metadata": {
        "colab": {
          "base_uri": "https://localhost:8080/",
          "height": 283
        },
        "id": "30ekLrE8cj4U",
        "outputId": "42b9cd9d-c66e-417a-ad0e-a5638d08198a"
      },
      "source": [
        "plt.scatter(X, y, color='gray')"
      ],
      "execution_count": null,
      "outputs": [
        {
          "output_type": "execute_result",
          "data": {
            "text/plain": [
              "<matplotlib.collections.PathCollection at 0x7f6ab44f5550>"
            ]
          },
          "metadata": {
            "tags": []
          },
          "execution_count": 74
        },
        {
          "output_type": "display_data",
          "data": {
            "image/png": "[encoded data removed]",
            "text/plain": [
              "<Figure size 432x288 with 1 Axes>"
            ]
          },
          "metadata": {
            "tags": [],
            "needs_background": "light"
          }
        }
      ]
    },
    {
      "cell_type": "code",
      "metadata": {
        "colab": {
          "base_uri": "https://localhost:8080/"
        },
        "id": "8wOl3aK5bhfj",
        "outputId": "c6667f46-6d7f-4ccf-e15f-ede163aa26be"
      },
      "source": [
        "model = LinearRegression()\n",
        "model.fit(X, y)"
      ],
      "execution_count": null,
      "outputs": [
        {
          "output_type": "execute_result",
          "data": {
            "text/plain": [
              "LinearRegression(copy_X=True, fit_intercept=True, n_jobs=None, normalize=False)"
            ]
          },
          "metadata": {
            "tags": []
          },
          "execution_count": 75
        }
      ]
    },
    {
      "cell_type": "code",
      "metadata": {
        "colab": {
          "base_uri": "https://localhost:8080/"
        },
        "id": "H1TO2J2JePYI",
        "outputId": "632b9250-9a33-4fac-96ce-f869757dc96c"
      },
      "source": [
        "model.coef_"
      ],
      "execution_count": null,
      "outputs": [
        {
          "output_type": "execute_result",
          "data": {
            "text/plain": [
              "array([949.43526038])"
            ]
          },
          "metadata": {
            "tags": []
          },
          "execution_count": 76
        }
      ]
    },
    {
      "cell_type": "code",
      "metadata": {
        "colab": {
          "base_uri": "https://localhost:8080/"
        },
        "id": "jyLxCN-AeRx2",
        "outputId": "f26635a8-9cfd-4890-d8b2-6b2dfa506141"
      },
      "source": [
        "model.intercept_"
      ],
      "execution_count": null,
      "outputs": [
        {
          "output_type": "execute_result",
          "data": {
            "text/plain": [
              "152.1334841628967"
            ]
          },
          "metadata": {
            "tags": []
          },
          "execution_count": 77
        }
      ]
    },
    {
      "cell_type": "code",
      "metadata": {
        "colab": {
          "base_uri": "https://localhost:8080/",
          "height": 283
        },
        "id": "HzNhNKhDeOMH",
        "outputId": "4ef05e22-7bcc-4856-de5e-3e73af6392c8"
      },
      "source": [
        "y_pred = model.predict(X)\n",
        "\n",
        "plt.scatter(X, y, color='gray')\n",
        "plt.plot(X, y_pred, color='red', linewidth=2)"
      ],
      "execution_count": null,
      "outputs": [
        {
          "output_type": "execute_result",
          "data": {
            "text/plain": [
              "[<matplotlib.lines.Line2D at 0x7f6ab44b9990>]"
            ]
          },
          "metadata": {
            "tags": []
          },
          "execution_count": 78
        },
        {
          "output_type": "display_data",
          "data": {
            "image/png": "[encoded data removed]",
            "text/plain": [
              "<Figure size 432x288 with 1 Axes>"
            ]
          },
          "metadata": {
            "tags": [],
            "needs_background": "light"
          }
        }
      ]
    },
    {
      "cell_type": "markdown",
      "metadata": {
        "id": "TlO6ftBlHRcM"
      },
      "source": [
        "## Exemplo de regressão multivariada\n",
        "\n",
        "Para uma regressão multivariada, com $i$ variáveis, $x$ vetor que armazenará multiplos valores, e $a$ será um vetor de pesos. Por conta disso, a equação da reta será resultado da soma ponderada dos valores de $x$ pelos pesos $a$, acrescentando-se posteriormente o $b$.\n",
        "\n",
        "$y = b + (\\sum_{i=1}^n{a_i x_i})$\n",
        "\n",
        "Em estatística, as **variáveis explicativas** de um modelo multivariado são também denomiandos **variáveis independentes**, visto que devem ser independentes entre si, mas dependentes da **desfecho**. Quando isso não ocorre, dizemos que o modelo possui **co-linearidade**, e isso pode ser um problema em alguns casos *.\n",
        "\n",
        "*Obs:* mas geralmente estatísticos se preocupam mais com isso que engenheiros de *machine learning*."
      ]
    },
    {
      "cell_type": "markdown",
      "metadata": {
        "id": "5vbM4QddPlNj"
      },
      "source": [
        "### Duas variáveis"
      ]
    },
    {
      "cell_type": "code",
      "metadata": {
        "id": "vfIZ83CFiVUR"
      },
      "source": [
        "X = df[['bmi', 'age']]"
      ],
      "execution_count": null,
      "outputs": []
    },
    {
      "cell_type": "code",
      "metadata": {
        "colab": {
          "base_uri": "https://localhost:8080/"
        },
        "id": "pkDKzge2JIA0",
        "outputId": "ce96de1a-7985-41a4-e800-a87959743061"
      },
      "source": [
        "model = LinearRegression()\n",
        "model.fit(X, y)"
      ],
      "execution_count": null,
      "outputs": [
        {
          "output_type": "execute_result",
          "data": {
            "text/plain": [
              "LinearRegression(copy_X=True, fit_intercept=True, n_jobs=None, normalize=False)"
            ]
          },
          "metadata": {
            "tags": []
          },
          "execution_count": 80
        }
      ]
    },
    {
      "cell_type": "code",
      "metadata": {
        "colab": {
          "base_uri": "https://localhost:8080/"
        },
        "id": "th5Wb781JKYY",
        "outputId": "9d28514d-a5d4-48fe-d32a-10ecedf5e019"
      },
      "source": [
        "model.coef_"
      ],
      "execution_count": null,
      "outputs": [
        {
          "output_type": "execute_result",
          "data": {
            "text/plain": [
              "array([924.81645876, 133.01372901])"
            ]
          },
          "metadata": {
            "tags": []
          },
          "execution_count": 81
        }
      ]
    },
    {
      "cell_type": "code",
      "metadata": {
        "colab": {
          "base_uri": "https://localhost:8080/"
        },
        "id": "7STU_gECJLVB",
        "outputId": "d9b60a48-70d3-4b0a-a5f6-31cb3063af7c"
      },
      "source": [
        "model.intercept_"
      ],
      "execution_count": null,
      "outputs": [
        {
          "output_type": "execute_result",
          "data": {
            "text/plain": [
              "152.13348416289674"
            ]
          },
          "metadata": {
            "tags": []
          },
          "execution_count": 82
        }
      ]
    },
    {
      "cell_type": "markdown",
      "metadata": {
        "id": "U__SDFd1P2Uj"
      },
      "source": [
        "## Todas as variáveis"
      ]
    },
    {
      "cell_type": "code",
      "metadata": {
        "id": "hONdOkUHPq6f"
      },
      "source": [
        "X = df.drop(['target'], axis=1)"
      ],
      "execution_count": null,
      "outputs": []
    },
    {
      "cell_type": "code",
      "metadata": {
        "colab": {
          "base_uri": "https://localhost:8080/"
        },
        "id": "inryymm2Ptac",
        "outputId": "059991aa-317d-4774-c846-2ae9481af611"
      },
      "source": [
        "model = LinearRegression()\n",
        "model.fit(X, y)"
      ],
      "execution_count": null,
      "outputs": [
        {
          "output_type": "execute_result",
          "data": {
            "text/plain": [
              "LinearRegression(copy_X=True, fit_intercept=True, n_jobs=None, normalize=False)"
            ]
          },
          "metadata": {
            "tags": []
          },
          "execution_count": 84
        }
      ]
    },
    {
      "cell_type": "code",
      "metadata": {
        "colab": {
          "base_uri": "https://localhost:8080/"
        },
        "id": "G2J021_mPukl",
        "outputId": "acf60f4b-99e8-4f7c-91a0-f875aaa30bb7"
      },
      "source": [
        "model.coef_"
      ],
      "execution_count": null,
      "outputs": [
        {
          "output_type": "execute_result",
          "data": {
            "text/plain": [
              "array([ -10.01219782, -239.81908937,  519.83978679,  324.39042769,\n",
              "       -792.18416163,  476.74583782,  101.04457032,  177.06417623,\n",
              "        751.27932109,   67.62538639])"
            ]
          },
          "metadata": {
            "tags": []
          },
          "execution_count": 85
        }
      ]
    },
    {
      "cell_type": "code",
      "metadata": {
        "colab": {
          "base_uri": "https://localhost:8080/"
        },
        "id": "1Od2ZU24P1Od",
        "outputId": "3c9b0543-85e3-4563-dca7-8a3b92b4bfba"
      },
      "source": [
        "model.intercept_"
      ],
      "execution_count": null,
      "outputs": [
        {
          "output_type": "execute_result",
          "data": {
            "text/plain": [
              "152.1334841628965"
            ]
          },
          "metadata": {
            "tags": []
          },
          "execution_count": 86
        }
      ]
    },
    {
      "cell_type": "markdown",
      "metadata": {
        "id": "O169HpiWQBa6"
      },
      "source": [
        "## Métricas para avaliar modelos de regressão\n",
        "\n",
        "Diferentes métricas podem ser utilizadas para a avaliação de modelos de regressão, sendo algumas destas utilizadas inclusive como função de erro (ex: RMSE). Além disso, é possivel também se utilizar métricas de estatística, como a de Pearson e de Spearman para analisar a correção entre o valor previsto e real da variável de interesse, ou o coeficiente de determinação."
      ]
    },
    {
      "cell_type": "code",
      "metadata": {
        "id": "50c0ggztQSkM"
      },
      "source": [
        "from sklearn.metrics import mean_squared_error, mean_absolute_error, r2_score\n",
        "from scipy.stats import pearsonr\n",
        "from scipy.stats import spearmanr"
      ],
      "execution_count": null,
      "outputs": []
    },
    {
      "cell_type": "code",
      "metadata": {
        "id": "PTCrLRAcQEij"
      },
      "source": [
        "y_pred = model.predict(X)"
      ],
      "execution_count": null,
      "outputs": []
    },
    {
      "cell_type": "code",
      "metadata": {
        "colab": {
          "base_uri": "https://localhost:8080/"
        },
        "id": "ADD8yGI0R0uy",
        "outputId": "62e47c03-64a9-419b-cb91-c12c7d33e84b"
      },
      "source": [
        "mean_squared_error(y, y_pred)"
      ],
      "execution_count": null,
      "outputs": [
        {
          "output_type": "execute_result",
          "data": {
            "text/plain": [
              "2859.6903987680657"
            ]
          },
          "metadata": {
            "tags": []
          },
          "execution_count": 89
        }
      ]
    },
    {
      "cell_type": "code",
      "metadata": {
        "colab": {
          "base_uri": "https://localhost:8080/"
        },
        "id": "l-O62SdlR-oJ",
        "outputId": "7dd5ce78-4934-40be-94c7-42d16749ad69"
      },
      "source": [
        "mean_absolute_error(y, y_pred)"
      ],
      "execution_count": null,
      "outputs": [
        {
          "output_type": "execute_result",
          "data": {
            "text/plain": [
              "43.27739508374988"
            ]
          },
          "metadata": {
            "tags": []
          },
          "execution_count": 90
        }
      ]
    },
    {
      "cell_type": "code",
      "metadata": {
        "colab": {
          "base_uri": "https://localhost:8080/"
        },
        "id": "6AtaSJgRWsHL",
        "outputId": "b5d8dc00-4ffb-4958-de41-d996e0dd3858"
      },
      "source": [
        "r2_score(y, y_pred)"
      ],
      "execution_count": null,
      "outputs": [
        {
          "output_type": "execute_result",
          "data": {
            "text/plain": [
              "0.5177494254132934"
            ]
          },
          "metadata": {
            "tags": []
          },
          "execution_count": 91
        }
      ]
    },
    {
      "cell_type": "code",
      "metadata": {
        "colab": {
          "base_uri": "https://localhost:8080/"
        },
        "id": "cfLnwx_XQE2q",
        "outputId": "f61ad8d1-f4ee-4ea9-b7b8-1baecc5553c7"
      },
      "source": [
        "pearsonr(y, y_pred)"
      ],
      "execution_count": null,
      "outputs": [
        {
          "output_type": "execute_result",
          "data": {
            "text/plain": [
              "(0.7195480702588907, 1.101545724797191e-71)"
            ]
          },
          "metadata": {
            "tags": []
          },
          "execution_count": 92
        }
      ]
    },
    {
      "cell_type": "code",
      "metadata": {
        "colab": {
          "base_uri": "https://localhost:8080/"
        },
        "id": "9pPPv1yWRil4",
        "outputId": "49cce269-9dab-4a4a-a727-4531d1816f32"
      },
      "source": [
        "spearmanr(y, y_pred)"
      ],
      "execution_count": null,
      "outputs": [
        {
          "output_type": "execute_result",
          "data": {
            "text/plain": [
              "SpearmanrResult(correlation=0.7050483982989378, pvalue=1.1428861440056012e-67)"
            ]
          },
          "metadata": {
            "tags": []
          },
          "execution_count": 93
        }
      ]
    },
    {
      "cell_type": "markdown",
      "metadata": {
        "id": "xVPRi77BTq5R"
      },
      "source": [
        "## Evitar \"overfitting\"\n",
        "\n",
        "Quando treinamos um modelo de aprendizado de máquina, esperamos que ele seja capaz de \"generalizar\", ou seja, extrapolar o seu aprendizado para dados diferentes dos apresentados para o seu treinamento (**conjunto de treino**). Uma das formas de verificarmos a generalização e avaliando a performance do modelo para dados nunca vistos antes, ou seja, dados que não foram utilizados para o seu treinamento, sendo então denominados **conjunto de teste**.\n",
        "\n",
        "Um modelo é chamado *overfitted* (**sobreajustado**) quando seus parâmetros se comportam bem para os dados de treino mas mal para os dados de teste. Em algumas situações é possível que o modelo se comporte mal para ambos, sendo então denominado *underfitted* (**sub-ajustado**). Ambos os cenários são ruins.\n",
        "\n",
        "O *underfitting* pode ser resolvindo com a utilização de modelos mais complexos, capazes de capturar mais características dos dados (ex: não-linearidades), enquanto que o *overfitting* pode ser resolvido com a utilização de modelos mais simples e/ou **regularização** (ex: penalizar, durante o treinamento, os modelos que apresentem pesos com valores muito altos). Existem diferentes tipos de regularização, sendo L1 e L2 algumas das mais utilizadas em modelos lineares.\n",
        "\n",
        "![](https://miro.medium.com/max/1125/1*_7OPgojau8hkiPUiHoGK_w.png)"
      ]
    },
    {
      "cell_type": "code",
      "metadata": {
        "id": "K4M3cpjaTzmB"
      },
      "source": [
        "from sklearn.model_selection import train_test_split"
      ],
      "execution_count": null,
      "outputs": []
    },
    {
      "cell_type": "code",
      "metadata": {
        "id": "6oiwN5TjTu76"
      },
      "source": [
        "X_train, X_test, y_train, y_test = train_test_split(X, y)"
      ],
      "execution_count": null,
      "outputs": []
    },
    {
      "cell_type": "code",
      "metadata": {
        "colab": {
          "base_uri": "https://localhost:8080/"
        },
        "id": "0EBF7lkET23k",
        "outputId": "43a25e8e-aec0-4845-b907-5943c2ad6cfc"
      },
      "source": [
        "model = LinearRegression()\n",
        "model.fit(X_train, y_train)"
      ],
      "execution_count": null,
      "outputs": [
        {
          "output_type": "execute_result",
          "data": {
            "text/plain": [
              "LinearRegression(copy_X=True, fit_intercept=True, n_jobs=None, normalize=False)"
            ]
          },
          "metadata": {
            "tags": []
          },
          "execution_count": 96
        }
      ]
    },
    {
      "cell_type": "code",
      "metadata": {
        "id": "e3BnAyrzT9Ap"
      },
      "source": [
        "y_pred = model.predict(X_test)"
      ],
      "execution_count": null,
      "outputs": []
    },
    {
      "cell_type": "code",
      "metadata": {
        "colab": {
          "base_uri": "https://localhost:8080/"
        },
        "id": "0GNPY0tuUA5h",
        "outputId": "cec6c353-b38e-4b76-d68d-2e8c4c4507fc"
      },
      "source": [
        "mean_squared_error(y_test, y_pred)"
      ],
      "execution_count": null,
      "outputs": [
        {
          "output_type": "execute_result",
          "data": {
            "text/plain": [
              "3204.1401485152664"
            ]
          },
          "metadata": {
            "tags": []
          },
          "execution_count": 98
        }
      ]
    },
    {
      "cell_type": "code",
      "metadata": {
        "colab": {
          "base_uri": "https://localhost:8080/"
        },
        "id": "-S_cnbDCUB-J",
        "outputId": "3796e13c-8d38-4a12-fdc6-cbe605caf1c5"
      },
      "source": [
        "mean_absolute_error(y_test, y_pred)"
      ],
      "execution_count": null,
      "outputs": [
        {
          "output_type": "execute_result",
          "data": {
            "text/plain": [
              "47.45501981326595"
            ]
          },
          "metadata": {
            "tags": []
          },
          "execution_count": 99
        }
      ]
    },
    {
      "cell_type": "code",
      "metadata": {
        "colab": {
          "base_uri": "https://localhost:8080/"
        },
        "id": "CNkZqQD6W0me",
        "outputId": "50011717-23e1-44ec-9ca2-52974c9bc796"
      },
      "source": [
        "r2_score(y_test, y_pred)"
      ],
      "execution_count": null,
      "outputs": [
        {
          "output_type": "execute_result",
          "data": {
            "text/plain": [
              "0.4641101539485756"
            ]
          },
          "metadata": {
            "tags": []
          },
          "execution_count": 100
        }
      ]
    },
    {
      "cell_type": "code",
      "metadata": {
        "colab": {
          "base_uri": "https://localhost:8080/"
        },
        "id": "-QoymouRUFrd",
        "outputId": "0ac35f15-7996-47eb-ecfe-7176ffe30a42"
      },
      "source": [
        "pearsonr(y_test, y_pred)"
      ],
      "execution_count": null,
      "outputs": [
        {
          "output_type": "execute_result",
          "data": {
            "text/plain": [
              "(0.6957357817078483, 2.3599558091561977e-17)"
            ]
          },
          "metadata": {
            "tags": []
          },
          "execution_count": 101
        }
      ]
    },
    {
      "cell_type": "code",
      "metadata": {
        "colab": {
          "base_uri": "https://localhost:8080/"
        },
        "id": "A-KOYatSUIRe",
        "outputId": "a76231e9-03b2-43cb-f3f5-94eb7cde5ae4"
      },
      "source": [
        "spearmanr(y_test, y_pred)"
      ],
      "execution_count": null,
      "outputs": [
        {
          "output_type": "execute_result",
          "data": {
            "text/plain": [
              "SpearmanrResult(correlation=0.6613589356355982, pvalue=2.7730958066640248e-15)"
            ]
          },
          "metadata": {
            "tags": []
          },
          "execution_count": 102
        }
      ]
    },
    {
      "cell_type": "markdown",
      "metadata": {
        "id": "CzTsC1m2Nd2T"
      },
      "source": [
        "## Cuidados na criação de modelos lineares\n",
        "\n",
        "- As variáveis usadas como *features* ($x$) sejam independentes entre si, ou seja, que exista pouca co-linearidade entre elas.\n",
        "\n",
        "- A distribuição dos dados é linear ou se há interações não-lineares (isso pode ser visto na análise exploratória).\n",
        "\n",
        "- Não devem haver *outliers* (isso também pode ser visto na análise exploratória). É possivel se reduzir o efeito de *outliers* com o uso de métodos de regularização.\n",
        "\n",
        "- A distribuição dos dados deve ser normal.\n",
        "\n",
        "- Não extrapole (muito) além dos limites de dados que foram utilizados para o treino do modelo. \n",
        "\n",
        "![](https://imgs.xkcd.com/comics/extrapolating.png)\n"
      ]
    }
  ]
}